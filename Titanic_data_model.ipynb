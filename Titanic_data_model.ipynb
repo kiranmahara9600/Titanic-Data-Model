{
  "nbformat": 4,
  "nbformat_minor": 0,
  "metadata": {
    "colab": {
      "provenance": [],
      "collapsed_sections": [],
      "include_colab_link": true
    },
    "kernelspec": {
      "name": "python3",
      "display_name": "Python 3"
    },
    "language_info": {
      "name": "python"
    }
  },
  "cells": [
    {
      "cell_type": "markdown",
      "metadata": {
        "id": "view-in-github",
        "colab_type": "text"
      },
      "source": [
        "<a href=\"https://colab.research.google.com/github/kiranmahara9600/Titanic-Data-Model/blob/main/Titanic_data_model.ipynb\" target=\"_parent\"><img src=\"https://colab.research.google.com/assets/colab-badge.svg\" alt=\"Open In Colab\"/></a>"
      ]
    },
    {
      "cell_type": "code",
      "execution_count": 1,
      "metadata": {
        "id": "sPKaEcGEZtyw"
      },
      "outputs": [],
      "source": [
        "##importing all necessary modules\n",
        "\n",
        "#for data preprocessing\n",
        "import pandas as pd\n",
        "import numpy as np\n",
        "\n",
        "#for visualisation\n",
        "import matplotlib.pyplot as plt\n",
        "import seaborn as sns\n",
        "\n",
        "#for model building\n",
        "from sklearn.tree import DecisionTreeClassifier\n",
        "\n",
        "#to split the data\n",
        "from sklearn.model_selection import train_test_split\n",
        "\n",
        "#for hyperparameter tuning\n",
        "from sklearn.model_selection import GridSearchCV\n",
        "\n",
        "#error metrics\n",
        "from sklearn.metrics import confusion_matrix\n",
        "from sklearn.metrics import accuracy_score, auc\n",
        "\n",
        "#to visualise decision trees\n",
        "from sklearn.tree import export_graphviz\n",
        "from sklearn import tree\n",
        "from IPython.display import SVG\n",
        "from graphviz import Source\n",
        "from IPython.display import display"
      ]
    },
    {
      "cell_type": "code",
      "source": [
        "#importing dataset\n",
        "from sklearn.datasets import fetch_openml\n",
        "titanic = fetch_openml('titanic', version = 1)\n",
        "\n",
        "#capturing data in a dataframe\n",
        "titanic_df = titanic['data']\n",
        "titanic_df['survived'] = titanic['target']"
      ],
      "metadata": {
        "id": "_bW4P5U0ZwTZ"
      },
      "execution_count": 2,
      "outputs": []
    },
    {
      "cell_type": "code",
      "source": [
        "#data dimension\n",
        "titanic_df.shape"
      ],
      "metadata": {
        "colab": {
          "base_uri": "https://localhost:8080/"
        },
        "id": "dol6_86obmuV",
        "outputId": "6eb2e95f-1af3-4757-a10e-68e9979d6d80"
      },
      "execution_count": 3,
      "outputs": [
        {
          "output_type": "execute_result",
          "data": {
            "text/plain": [
              "(1309, 14)"
            ]
          },
          "metadata": {},
          "execution_count": 3
        }
      ]
    },
    {
      "cell_type": "code",
      "source": [
        "\n",
        "#looking for first few rows of the data\n",
        "titanic_df.head()"
      ],
      "metadata": {
        "colab": {
          "base_uri": "https://localhost:8080/",
          "height": 320
        },
        "id": "tKb_PAA6ct7_",
        "outputId": "9d60c9f8-683c-4952-e2e8-f7c3e6328413"
      },
      "execution_count": 4,
      "outputs": [
        {
          "output_type": "execute_result",
          "data": {
            "text/plain": [
              "   pclass                                             name     sex      age  \\\n",
              "0     1.0                    Allen, Miss. Elisabeth Walton  female  29.0000   \n",
              "1     1.0                   Allison, Master. Hudson Trevor    male   0.9167   \n",
              "2     1.0                     Allison, Miss. Helen Loraine  female   2.0000   \n",
              "3     1.0             Allison, Mr. Hudson Joshua Creighton    male  30.0000   \n",
              "4     1.0  Allison, Mrs. Hudson J C (Bessie Waldo Daniels)  female  25.0000   \n",
              "\n",
              "   sibsp  parch  ticket      fare    cabin embarked  boat   body  \\\n",
              "0    0.0    0.0   24160  211.3375       B5        S     2    NaN   \n",
              "1    1.0    2.0  113781  151.5500  C22 C26        S    11    NaN   \n",
              "2    1.0    2.0  113781  151.5500  C22 C26        S  None    NaN   \n",
              "3    1.0    2.0  113781  151.5500  C22 C26        S  None  135.0   \n",
              "4    1.0    2.0  113781  151.5500  C22 C26        S  None    NaN   \n",
              "\n",
              "                         home.dest survived  \n",
              "0                     St Louis, MO        1  \n",
              "1  Montreal, PQ / Chesterville, ON        1  \n",
              "2  Montreal, PQ / Chesterville, ON        0  \n",
              "3  Montreal, PQ / Chesterville, ON        0  \n",
              "4  Montreal, PQ / Chesterville, ON        0  "
            ],
            "text/html": [
              "\n",
              "  <div id=\"df-1f204bd5-2099-42c3-a267-5c1bbd022009\">\n",
              "    <div class=\"colab-df-container\">\n",
              "      <div>\n",
              "<style scoped>\n",
              "    .dataframe tbody tr th:only-of-type {\n",
              "        vertical-align: middle;\n",
              "    }\n",
              "\n",
              "    .dataframe tbody tr th {\n",
              "        vertical-align: top;\n",
              "    }\n",
              "\n",
              "    .dataframe thead th {\n",
              "        text-align: right;\n",
              "    }\n",
              "</style>\n",
              "<table border=\"1\" class=\"dataframe\">\n",
              "  <thead>\n",
              "    <tr style=\"text-align: right;\">\n",
              "      <th></th>\n",
              "      <th>pclass</th>\n",
              "      <th>name</th>\n",
              "      <th>sex</th>\n",
              "      <th>age</th>\n",
              "      <th>sibsp</th>\n",
              "      <th>parch</th>\n",
              "      <th>ticket</th>\n",
              "      <th>fare</th>\n",
              "      <th>cabin</th>\n",
              "      <th>embarked</th>\n",
              "      <th>boat</th>\n",
              "      <th>body</th>\n",
              "      <th>home.dest</th>\n",
              "      <th>survived</th>\n",
              "    </tr>\n",
              "  </thead>\n",
              "  <tbody>\n",
              "    <tr>\n",
              "      <th>0</th>\n",
              "      <td>1.0</td>\n",
              "      <td>Allen, Miss. Elisabeth Walton</td>\n",
              "      <td>female</td>\n",
              "      <td>29.0000</td>\n",
              "      <td>0.0</td>\n",
              "      <td>0.0</td>\n",
              "      <td>24160</td>\n",
              "      <td>211.3375</td>\n",
              "      <td>B5</td>\n",
              "      <td>S</td>\n",
              "      <td>2</td>\n",
              "      <td>NaN</td>\n",
              "      <td>St Louis, MO</td>\n",
              "      <td>1</td>\n",
              "    </tr>\n",
              "    <tr>\n",
              "      <th>1</th>\n",
              "      <td>1.0</td>\n",
              "      <td>Allison, Master. Hudson Trevor</td>\n",
              "      <td>male</td>\n",
              "      <td>0.9167</td>\n",
              "      <td>1.0</td>\n",
              "      <td>2.0</td>\n",
              "      <td>113781</td>\n",
              "      <td>151.5500</td>\n",
              "      <td>C22 C26</td>\n",
              "      <td>S</td>\n",
              "      <td>11</td>\n",
              "      <td>NaN</td>\n",
              "      <td>Montreal, PQ / Chesterville, ON</td>\n",
              "      <td>1</td>\n",
              "    </tr>\n",
              "    <tr>\n",
              "      <th>2</th>\n",
              "      <td>1.0</td>\n",
              "      <td>Allison, Miss. Helen Loraine</td>\n",
              "      <td>female</td>\n",
              "      <td>2.0000</td>\n",
              "      <td>1.0</td>\n",
              "      <td>2.0</td>\n",
              "      <td>113781</td>\n",
              "      <td>151.5500</td>\n",
              "      <td>C22 C26</td>\n",
              "      <td>S</td>\n",
              "      <td>None</td>\n",
              "      <td>NaN</td>\n",
              "      <td>Montreal, PQ / Chesterville, ON</td>\n",
              "      <td>0</td>\n",
              "    </tr>\n",
              "    <tr>\n",
              "      <th>3</th>\n",
              "      <td>1.0</td>\n",
              "      <td>Allison, Mr. Hudson Joshua Creighton</td>\n",
              "      <td>male</td>\n",
              "      <td>30.0000</td>\n",
              "      <td>1.0</td>\n",
              "      <td>2.0</td>\n",
              "      <td>113781</td>\n",
              "      <td>151.5500</td>\n",
              "      <td>C22 C26</td>\n",
              "      <td>S</td>\n",
              "      <td>None</td>\n",
              "      <td>135.0</td>\n",
              "      <td>Montreal, PQ / Chesterville, ON</td>\n",
              "      <td>0</td>\n",
              "    </tr>\n",
              "    <tr>\n",
              "      <th>4</th>\n",
              "      <td>1.0</td>\n",
              "      <td>Allison, Mrs. Hudson J C (Bessie Waldo Daniels)</td>\n",
              "      <td>female</td>\n",
              "      <td>25.0000</td>\n",
              "      <td>1.0</td>\n",
              "      <td>2.0</td>\n",
              "      <td>113781</td>\n",
              "      <td>151.5500</td>\n",
              "      <td>C22 C26</td>\n",
              "      <td>S</td>\n",
              "      <td>None</td>\n",
              "      <td>NaN</td>\n",
              "      <td>Montreal, PQ / Chesterville, ON</td>\n",
              "      <td>0</td>\n",
              "    </tr>\n",
              "  </tbody>\n",
              "</table>\n",
              "</div>\n",
              "      <button class=\"colab-df-convert\" onclick=\"convertToInteractive('df-1f204bd5-2099-42c3-a267-5c1bbd022009')\"\n",
              "              title=\"Convert this dataframe to an interactive table.\"\n",
              "              style=\"display:none;\">\n",
              "        \n",
              "  <svg xmlns=\"http://www.w3.org/2000/svg\" height=\"24px\"viewBox=\"0 0 24 24\"\n",
              "       width=\"24px\">\n",
              "    <path d=\"M0 0h24v24H0V0z\" fill=\"none\"/>\n",
              "    <path d=\"M18.56 5.44l.94 2.06.94-2.06 2.06-.94-2.06-.94-.94-2.06-.94 2.06-2.06.94zm-11 1L8.5 8.5l.94-2.06 2.06-.94-2.06-.94L8.5 2.5l-.94 2.06-2.06.94zm10 10l.94 2.06.94-2.06 2.06-.94-2.06-.94-.94-2.06-.94 2.06-2.06.94z\"/><path d=\"M17.41 7.96l-1.37-1.37c-.4-.4-.92-.59-1.43-.59-.52 0-1.04.2-1.43.59L10.3 9.45l-7.72 7.72c-.78.78-.78 2.05 0 2.83L4 21.41c.39.39.9.59 1.41.59.51 0 1.02-.2 1.41-.59l7.78-7.78 2.81-2.81c.8-.78.8-2.07 0-2.86zM5.41 20L4 18.59l7.72-7.72 1.47 1.35L5.41 20z\"/>\n",
              "  </svg>\n",
              "      </button>\n",
              "      \n",
              "  <style>\n",
              "    .colab-df-container {\n",
              "      display:flex;\n",
              "      flex-wrap:wrap;\n",
              "      gap: 12px;\n",
              "    }\n",
              "\n",
              "    .colab-df-convert {\n",
              "      background-color: #E8F0FE;\n",
              "      border: none;\n",
              "      border-radius: 50%;\n",
              "      cursor: pointer;\n",
              "      display: none;\n",
              "      fill: #1967D2;\n",
              "      height: 32px;\n",
              "      padding: 0 0 0 0;\n",
              "      width: 32px;\n",
              "    }\n",
              "\n",
              "    .colab-df-convert:hover {\n",
              "      background-color: #E2EBFA;\n",
              "      box-shadow: 0px 1px 2px rgba(60, 64, 67, 0.3), 0px 1px 3px 1px rgba(60, 64, 67, 0.15);\n",
              "      fill: #174EA6;\n",
              "    }\n",
              "\n",
              "    [theme=dark] .colab-df-convert {\n",
              "      background-color: #3B4455;\n",
              "      fill: #D2E3FC;\n",
              "    }\n",
              "\n",
              "    [theme=dark] .colab-df-convert:hover {\n",
              "      background-color: #434B5C;\n",
              "      box-shadow: 0px 1px 3px 1px rgba(0, 0, 0, 0.15);\n",
              "      filter: drop-shadow(0px 1px 2px rgba(0, 0, 0, 0.3));\n",
              "      fill: #FFFFFF;\n",
              "    }\n",
              "  </style>\n",
              "\n",
              "      <script>\n",
              "        const buttonEl =\n",
              "          document.querySelector('#df-1f204bd5-2099-42c3-a267-5c1bbd022009 button.colab-df-convert');\n",
              "        buttonEl.style.display =\n",
              "          google.colab.kernel.accessAllowed ? 'block' : 'none';\n",
              "\n",
              "        async function convertToInteractive(key) {\n",
              "          const element = document.querySelector('#df-1f204bd5-2099-42c3-a267-5c1bbd022009');\n",
              "          const dataTable =\n",
              "            await google.colab.kernel.invokeFunction('convertToInteractive',\n",
              "                                                     [key], {});\n",
              "          if (!dataTable) return;\n",
              "\n",
              "          const docLinkHtml = 'Like what you see? Visit the ' +\n",
              "            '<a target=\"_blank\" href=https://colab.research.google.com/notebooks/data_table.ipynb>data table notebook</a>'\n",
              "            + ' to learn more about interactive tables.';\n",
              "          element.innerHTML = '';\n",
              "          dataTable['output_type'] = 'display_data';\n",
              "          await google.colab.output.renderOutput(dataTable, element);\n",
              "          const docLink = document.createElement('div');\n",
              "          docLink.innerHTML = docLinkHtml;\n",
              "          element.appendChild(docLink);\n",
              "        }\n",
              "      </script>\n",
              "    </div>\n",
              "  </div>\n",
              "  "
            ]
          },
          "metadata": {},
          "execution_count": 4
        }
      ]
    },
    {
      "cell_type": "code",
      "source": [
        "titanic_df.tail()"
      ],
      "metadata": {
        "colab": {
          "base_uri": "https://localhost:8080/",
          "height": 206
        },
        "id": "p3MAMyZ45euq",
        "outputId": "3413a33c-1fd5-44cb-8fcc-5e95e6c82a41"
      },
      "execution_count": 5,
      "outputs": [
        {
          "output_type": "execute_result",
          "data": {
            "text/plain": [
              "      pclass                       name     sex   age  sibsp  parch  ticket  \\\n",
              "1304     3.0       Zabour, Miss. Hileni  female  14.5    1.0    0.0    2665   \n",
              "1305     3.0      Zabour, Miss. Thamine  female   NaN    1.0    0.0    2665   \n",
              "1306     3.0  Zakarian, Mr. Mapriededer    male  26.5    0.0    0.0    2656   \n",
              "1307     3.0        Zakarian, Mr. Ortin    male  27.0    0.0    0.0    2670   \n",
              "1308     3.0         Zimmerman, Mr. Leo    male  29.0    0.0    0.0  315082   \n",
              "\n",
              "         fare cabin embarked  boat   body home.dest survived  \n",
              "1304  14.4542  None        C  None  328.0      None        0  \n",
              "1305  14.4542  None        C  None    NaN      None        0  \n",
              "1306   7.2250  None        C  None  304.0      None        0  \n",
              "1307   7.2250  None        C  None    NaN      None        0  \n",
              "1308   7.8750  None        S  None    NaN      None        0  "
            ],
            "text/html": [
              "\n",
              "  <div id=\"df-f86637a0-05d1-4c91-9469-e470df2176d5\">\n",
              "    <div class=\"colab-df-container\">\n",
              "      <div>\n",
              "<style scoped>\n",
              "    .dataframe tbody tr th:only-of-type {\n",
              "        vertical-align: middle;\n",
              "    }\n",
              "\n",
              "    .dataframe tbody tr th {\n",
              "        vertical-align: top;\n",
              "    }\n",
              "\n",
              "    .dataframe thead th {\n",
              "        text-align: right;\n",
              "    }\n",
              "</style>\n",
              "<table border=\"1\" class=\"dataframe\">\n",
              "  <thead>\n",
              "    <tr style=\"text-align: right;\">\n",
              "      <th></th>\n",
              "      <th>pclass</th>\n",
              "      <th>name</th>\n",
              "      <th>sex</th>\n",
              "      <th>age</th>\n",
              "      <th>sibsp</th>\n",
              "      <th>parch</th>\n",
              "      <th>ticket</th>\n",
              "      <th>fare</th>\n",
              "      <th>cabin</th>\n",
              "      <th>embarked</th>\n",
              "      <th>boat</th>\n",
              "      <th>body</th>\n",
              "      <th>home.dest</th>\n",
              "      <th>survived</th>\n",
              "    </tr>\n",
              "  </thead>\n",
              "  <tbody>\n",
              "    <tr>\n",
              "      <th>1304</th>\n",
              "      <td>3.0</td>\n",
              "      <td>Zabour, Miss. Hileni</td>\n",
              "      <td>female</td>\n",
              "      <td>14.5</td>\n",
              "      <td>1.0</td>\n",
              "      <td>0.0</td>\n",
              "      <td>2665</td>\n",
              "      <td>14.4542</td>\n",
              "      <td>None</td>\n",
              "      <td>C</td>\n",
              "      <td>None</td>\n",
              "      <td>328.0</td>\n",
              "      <td>None</td>\n",
              "      <td>0</td>\n",
              "    </tr>\n",
              "    <tr>\n",
              "      <th>1305</th>\n",
              "      <td>3.0</td>\n",
              "      <td>Zabour, Miss. Thamine</td>\n",
              "      <td>female</td>\n",
              "      <td>NaN</td>\n",
              "      <td>1.0</td>\n",
              "      <td>0.0</td>\n",
              "      <td>2665</td>\n",
              "      <td>14.4542</td>\n",
              "      <td>None</td>\n",
              "      <td>C</td>\n",
              "      <td>None</td>\n",
              "      <td>NaN</td>\n",
              "      <td>None</td>\n",
              "      <td>0</td>\n",
              "    </tr>\n",
              "    <tr>\n",
              "      <th>1306</th>\n",
              "      <td>3.0</td>\n",
              "      <td>Zakarian, Mr. Mapriededer</td>\n",
              "      <td>male</td>\n",
              "      <td>26.5</td>\n",
              "      <td>0.0</td>\n",
              "      <td>0.0</td>\n",
              "      <td>2656</td>\n",
              "      <td>7.2250</td>\n",
              "      <td>None</td>\n",
              "      <td>C</td>\n",
              "      <td>None</td>\n",
              "      <td>304.0</td>\n",
              "      <td>None</td>\n",
              "      <td>0</td>\n",
              "    </tr>\n",
              "    <tr>\n",
              "      <th>1307</th>\n",
              "      <td>3.0</td>\n",
              "      <td>Zakarian, Mr. Ortin</td>\n",
              "      <td>male</td>\n",
              "      <td>27.0</td>\n",
              "      <td>0.0</td>\n",
              "      <td>0.0</td>\n",
              "      <td>2670</td>\n",
              "      <td>7.2250</td>\n",
              "      <td>None</td>\n",
              "      <td>C</td>\n",
              "      <td>None</td>\n",
              "      <td>NaN</td>\n",
              "      <td>None</td>\n",
              "      <td>0</td>\n",
              "    </tr>\n",
              "    <tr>\n",
              "      <th>1308</th>\n",
              "      <td>3.0</td>\n",
              "      <td>Zimmerman, Mr. Leo</td>\n",
              "      <td>male</td>\n",
              "      <td>29.0</td>\n",
              "      <td>0.0</td>\n",
              "      <td>0.0</td>\n",
              "      <td>315082</td>\n",
              "      <td>7.8750</td>\n",
              "      <td>None</td>\n",
              "      <td>S</td>\n",
              "      <td>None</td>\n",
              "      <td>NaN</td>\n",
              "      <td>None</td>\n",
              "      <td>0</td>\n",
              "    </tr>\n",
              "  </tbody>\n",
              "</table>\n",
              "</div>\n",
              "      <button class=\"colab-df-convert\" onclick=\"convertToInteractive('df-f86637a0-05d1-4c91-9469-e470df2176d5')\"\n",
              "              title=\"Convert this dataframe to an interactive table.\"\n",
              "              style=\"display:none;\">\n",
              "        \n",
              "  <svg xmlns=\"http://www.w3.org/2000/svg\" height=\"24px\"viewBox=\"0 0 24 24\"\n",
              "       width=\"24px\">\n",
              "    <path d=\"M0 0h24v24H0V0z\" fill=\"none\"/>\n",
              "    <path d=\"M18.56 5.44l.94 2.06.94-2.06 2.06-.94-2.06-.94-.94-2.06-.94 2.06-2.06.94zm-11 1L8.5 8.5l.94-2.06 2.06-.94-2.06-.94L8.5 2.5l-.94 2.06-2.06.94zm10 10l.94 2.06.94-2.06 2.06-.94-2.06-.94-.94-2.06-.94 2.06-2.06.94z\"/><path d=\"M17.41 7.96l-1.37-1.37c-.4-.4-.92-.59-1.43-.59-.52 0-1.04.2-1.43.59L10.3 9.45l-7.72 7.72c-.78.78-.78 2.05 0 2.83L4 21.41c.39.39.9.59 1.41.59.51 0 1.02-.2 1.41-.59l7.78-7.78 2.81-2.81c.8-.78.8-2.07 0-2.86zM5.41 20L4 18.59l7.72-7.72 1.47 1.35L5.41 20z\"/>\n",
              "  </svg>\n",
              "      </button>\n",
              "      \n",
              "  <style>\n",
              "    .colab-df-container {\n",
              "      display:flex;\n",
              "      flex-wrap:wrap;\n",
              "      gap: 12px;\n",
              "    }\n",
              "\n",
              "    .colab-df-convert {\n",
              "      background-color: #E8F0FE;\n",
              "      border: none;\n",
              "      border-radius: 50%;\n",
              "      cursor: pointer;\n",
              "      display: none;\n",
              "      fill: #1967D2;\n",
              "      height: 32px;\n",
              "      padding: 0 0 0 0;\n",
              "      width: 32px;\n",
              "    }\n",
              "\n",
              "    .colab-df-convert:hover {\n",
              "      background-color: #E2EBFA;\n",
              "      box-shadow: 0px 1px 2px rgba(60, 64, 67, 0.3), 0px 1px 3px 1px rgba(60, 64, 67, 0.15);\n",
              "      fill: #174EA6;\n",
              "    }\n",
              "\n",
              "    [theme=dark] .colab-df-convert {\n",
              "      background-color: #3B4455;\n",
              "      fill: #D2E3FC;\n",
              "    }\n",
              "\n",
              "    [theme=dark] .colab-df-convert:hover {\n",
              "      background-color: #434B5C;\n",
              "      box-shadow: 0px 1px 3px 1px rgba(0, 0, 0, 0.15);\n",
              "      filter: drop-shadow(0px 1px 2px rgba(0, 0, 0, 0.3));\n",
              "      fill: #FFFFFF;\n",
              "    }\n",
              "  </style>\n",
              "\n",
              "      <script>\n",
              "        const buttonEl =\n",
              "          document.querySelector('#df-f86637a0-05d1-4c91-9469-e470df2176d5 button.colab-df-convert');\n",
              "        buttonEl.style.display =\n",
              "          google.colab.kernel.accessAllowed ? 'block' : 'none';\n",
              "\n",
              "        async function convertToInteractive(key) {\n",
              "          const element = document.querySelector('#df-f86637a0-05d1-4c91-9469-e470df2176d5');\n",
              "          const dataTable =\n",
              "            await google.colab.kernel.invokeFunction('convertToInteractive',\n",
              "                                                     [key], {});\n",
              "          if (!dataTable) return;\n",
              "\n",
              "          const docLinkHtml = 'Like what you see? Visit the ' +\n",
              "            '<a target=\"_blank\" href=https://colab.research.google.com/notebooks/data_table.ipynb>data table notebook</a>'\n",
              "            + ' to learn more about interactive tables.';\n",
              "          element.innerHTML = '';\n",
              "          dataTable['output_type'] = 'display_data';\n",
              "          await google.colab.output.renderOutput(dataTable, element);\n",
              "          const docLink = document.createElement('div');\n",
              "          docLink.innerHTML = docLinkHtml;\n",
              "          element.appendChild(docLink);\n",
              "        }\n",
              "      </script>\n",
              "    </div>\n",
              "  </div>\n",
              "  "
            ]
          },
          "metadata": {},
          "execution_count": 5
        }
      ]
    },
    {
      "cell_type": "markdown",
      "source": [
        "***Data Dictionary***\n",
        "\n",
        "* *pclass - refers to passenger class ( 1st, 2nd, 3rd )*\n",
        "* *name - name of the passenger*\n",
        "* *sex - gender of the passenger*\n",
        "* *age - age of the passenger*\n",
        "* *sibsp - no. of siblings or spouses passenger have on the ship*\n",
        "* *parch - no. of parent or guardian passenger have on the ship*\n",
        "* *ticket - represents ticket no. of the passenger*\n",
        "* *fare - price of the ticket*\n",
        "* *cabin - cabin information of the passenger*\n",
        "* *embarked - prt of departure for the passenger*\n",
        "* *boat - lifeboat if survived*\n",
        "* *body - body no. if passenger did not survive and body was recovered*\n",
        "* *home.dest - destination of the passenger*\n",
        "* *survived - passenger survived or not*"
      ],
      "metadata": {
        "id": "tCZyhBuQebvR"
      }
    },
    {
      "cell_type": "markdown",
      "source": [
        "###***Data Pre-processing***"
      ],
      "metadata": {
        "id": "-mLBddwd3PT0"
      }
    },
    {
      "cell_type": "markdown",
      "source": [
        "***Feature Extraction***"
      ],
      "metadata": {
        "id": "5pI_wlEBWkF6"
      }
    },
    {
      "cell_type": "markdown",
      "source": [
        "*Name feature consists of first name, last name, title etc. let's explore this feature. Let's randomly pick a row to check title of the passenger for that row*"
      ],
      "metadata": {
        "id": "aY4fE4TcGBhs"
      }
    },
    {
      "cell_type": "code",
      "source": [
        "#randomly picked a row\n",
        "titanic_df['name'][93]"
      ],
      "metadata": {
        "colab": {
          "base_uri": "https://localhost:8080/",
          "height": 35
        },
        "id": "n9-c95s7GKVg",
        "outputId": "baef4ff1-8336-45a9-b229-348da334015d"
      },
      "execution_count": 6,
      "outputs": [
        {
          "output_type": "execute_result",
          "data": {
            "text/plain": [
              "'Dodge, Dr. Washington'"
            ],
            "application/vnd.google.colaboratory.intrinsic+json": {
              "type": "string"
            }
          },
          "metadata": {},
          "execution_count": 6
        }
      ]
    },
    {
      "cell_type": "markdown",
      "source": [
        "*okay, the title of the passenger in 93rd row is Dr.*"
      ],
      "metadata": {
        "id": "h9W1UuOjGqSc"
      }
    },
    {
      "cell_type": "markdown",
      "source": [
        "*Let's extract the title from name column as it represents social status of a passenger and might help in prediction of output variable as survival may depend on social status of a person*"
      ],
      "metadata": {
        "id": "1Q4eKGB7G1s0"
      }
    },
    {
      "cell_type": "code",
      "source": [
        "#extracting a new feature title\n",
        "titanic_df['passenger title'] =titanic_df['name'].str.split(',|\\\\.',expand = True)[1]\n",
        "\n",
        "#dropping columns 'name'\n",
        "titanic_df.drop(columns = ['name'],inplace = True)"
      ],
      "metadata": {
        "id": "GJiOs0k2GyTq"
      },
      "execution_count": 7,
      "outputs": []
    },
    {
      "cell_type": "code",
      "source": [
        "titanic_df.head()"
      ],
      "metadata": {
        "id": "XzEKqCqi7uKZ",
        "colab": {
          "base_uri": "https://localhost:8080/",
          "height": 206
        },
        "outputId": "2c104efd-c76a-4965-b55a-1fd9232891c9"
      },
      "execution_count": 8,
      "outputs": [
        {
          "output_type": "execute_result",
          "data": {
            "text/plain": [
              "   pclass     sex      age  sibsp  parch  ticket      fare    cabin embarked  \\\n",
              "0     1.0  female  29.0000    0.0    0.0   24160  211.3375       B5        S   \n",
              "1     1.0    male   0.9167    1.0    2.0  113781  151.5500  C22 C26        S   \n",
              "2     1.0  female   2.0000    1.0    2.0  113781  151.5500  C22 C26        S   \n",
              "3     1.0    male  30.0000    1.0    2.0  113781  151.5500  C22 C26        S   \n",
              "4     1.0  female  25.0000    1.0    2.0  113781  151.5500  C22 C26        S   \n",
              "\n",
              "   boat   body                        home.dest survived passenger title  \n",
              "0     2    NaN                     St Louis, MO        1            Miss  \n",
              "1    11    NaN  Montreal, PQ / Chesterville, ON        1          Master  \n",
              "2  None    NaN  Montreal, PQ / Chesterville, ON        0            Miss  \n",
              "3  None  135.0  Montreal, PQ / Chesterville, ON        0              Mr  \n",
              "4  None    NaN  Montreal, PQ / Chesterville, ON        0             Mrs  "
            ],
            "text/html": [
              "\n",
              "  <div id=\"df-f2a6aeb3-cc92-44fa-8a49-72b7f3011751\">\n",
              "    <div class=\"colab-df-container\">\n",
              "      <div>\n",
              "<style scoped>\n",
              "    .dataframe tbody tr th:only-of-type {\n",
              "        vertical-align: middle;\n",
              "    }\n",
              "\n",
              "    .dataframe tbody tr th {\n",
              "        vertical-align: top;\n",
              "    }\n",
              "\n",
              "    .dataframe thead th {\n",
              "        text-align: right;\n",
              "    }\n",
              "</style>\n",
              "<table border=\"1\" class=\"dataframe\">\n",
              "  <thead>\n",
              "    <tr style=\"text-align: right;\">\n",
              "      <th></th>\n",
              "      <th>pclass</th>\n",
              "      <th>sex</th>\n",
              "      <th>age</th>\n",
              "      <th>sibsp</th>\n",
              "      <th>parch</th>\n",
              "      <th>ticket</th>\n",
              "      <th>fare</th>\n",
              "      <th>cabin</th>\n",
              "      <th>embarked</th>\n",
              "      <th>boat</th>\n",
              "      <th>body</th>\n",
              "      <th>home.dest</th>\n",
              "      <th>survived</th>\n",
              "      <th>passenger title</th>\n",
              "    </tr>\n",
              "  </thead>\n",
              "  <tbody>\n",
              "    <tr>\n",
              "      <th>0</th>\n",
              "      <td>1.0</td>\n",
              "      <td>female</td>\n",
              "      <td>29.0000</td>\n",
              "      <td>0.0</td>\n",
              "      <td>0.0</td>\n",
              "      <td>24160</td>\n",
              "      <td>211.3375</td>\n",
              "      <td>B5</td>\n",
              "      <td>S</td>\n",
              "      <td>2</td>\n",
              "      <td>NaN</td>\n",
              "      <td>St Louis, MO</td>\n",
              "      <td>1</td>\n",
              "      <td>Miss</td>\n",
              "    </tr>\n",
              "    <tr>\n",
              "      <th>1</th>\n",
              "      <td>1.0</td>\n",
              "      <td>male</td>\n",
              "      <td>0.9167</td>\n",
              "      <td>1.0</td>\n",
              "      <td>2.0</td>\n",
              "      <td>113781</td>\n",
              "      <td>151.5500</td>\n",
              "      <td>C22 C26</td>\n",
              "      <td>S</td>\n",
              "      <td>11</td>\n",
              "      <td>NaN</td>\n",
              "      <td>Montreal, PQ / Chesterville, ON</td>\n",
              "      <td>1</td>\n",
              "      <td>Master</td>\n",
              "    </tr>\n",
              "    <tr>\n",
              "      <th>2</th>\n",
              "      <td>1.0</td>\n",
              "      <td>female</td>\n",
              "      <td>2.0000</td>\n",
              "      <td>1.0</td>\n",
              "      <td>2.0</td>\n",
              "      <td>113781</td>\n",
              "      <td>151.5500</td>\n",
              "      <td>C22 C26</td>\n",
              "      <td>S</td>\n",
              "      <td>None</td>\n",
              "      <td>NaN</td>\n",
              "      <td>Montreal, PQ / Chesterville, ON</td>\n",
              "      <td>0</td>\n",
              "      <td>Miss</td>\n",
              "    </tr>\n",
              "    <tr>\n",
              "      <th>3</th>\n",
              "      <td>1.0</td>\n",
              "      <td>male</td>\n",
              "      <td>30.0000</td>\n",
              "      <td>1.0</td>\n",
              "      <td>2.0</td>\n",
              "      <td>113781</td>\n",
              "      <td>151.5500</td>\n",
              "      <td>C22 C26</td>\n",
              "      <td>S</td>\n",
              "      <td>None</td>\n",
              "      <td>135.0</td>\n",
              "      <td>Montreal, PQ / Chesterville, ON</td>\n",
              "      <td>0</td>\n",
              "      <td>Mr</td>\n",
              "    </tr>\n",
              "    <tr>\n",
              "      <th>4</th>\n",
              "      <td>1.0</td>\n",
              "      <td>female</td>\n",
              "      <td>25.0000</td>\n",
              "      <td>1.0</td>\n",
              "      <td>2.0</td>\n",
              "      <td>113781</td>\n",
              "      <td>151.5500</td>\n",
              "      <td>C22 C26</td>\n",
              "      <td>S</td>\n",
              "      <td>None</td>\n",
              "      <td>NaN</td>\n",
              "      <td>Montreal, PQ / Chesterville, ON</td>\n",
              "      <td>0</td>\n",
              "      <td>Mrs</td>\n",
              "    </tr>\n",
              "  </tbody>\n",
              "</table>\n",
              "</div>\n",
              "      <button class=\"colab-df-convert\" onclick=\"convertToInteractive('df-f2a6aeb3-cc92-44fa-8a49-72b7f3011751')\"\n",
              "              title=\"Convert this dataframe to an interactive table.\"\n",
              "              style=\"display:none;\">\n",
              "        \n",
              "  <svg xmlns=\"http://www.w3.org/2000/svg\" height=\"24px\"viewBox=\"0 0 24 24\"\n",
              "       width=\"24px\">\n",
              "    <path d=\"M0 0h24v24H0V0z\" fill=\"none\"/>\n",
              "    <path d=\"M18.56 5.44l.94 2.06.94-2.06 2.06-.94-2.06-.94-.94-2.06-.94 2.06-2.06.94zm-11 1L8.5 8.5l.94-2.06 2.06-.94-2.06-.94L8.5 2.5l-.94 2.06-2.06.94zm10 10l.94 2.06.94-2.06 2.06-.94-2.06-.94-.94-2.06-.94 2.06-2.06.94z\"/><path d=\"M17.41 7.96l-1.37-1.37c-.4-.4-.92-.59-1.43-.59-.52 0-1.04.2-1.43.59L10.3 9.45l-7.72 7.72c-.78.78-.78 2.05 0 2.83L4 21.41c.39.39.9.59 1.41.59.51 0 1.02-.2 1.41-.59l7.78-7.78 2.81-2.81c.8-.78.8-2.07 0-2.86zM5.41 20L4 18.59l7.72-7.72 1.47 1.35L5.41 20z\"/>\n",
              "  </svg>\n",
              "      </button>\n",
              "      \n",
              "  <style>\n",
              "    .colab-df-container {\n",
              "      display:flex;\n",
              "      flex-wrap:wrap;\n",
              "      gap: 12px;\n",
              "    }\n",
              "\n",
              "    .colab-df-convert {\n",
              "      background-color: #E8F0FE;\n",
              "      border: none;\n",
              "      border-radius: 50%;\n",
              "      cursor: pointer;\n",
              "      display: none;\n",
              "      fill: #1967D2;\n",
              "      height: 32px;\n",
              "      padding: 0 0 0 0;\n",
              "      width: 32px;\n",
              "    }\n",
              "\n",
              "    .colab-df-convert:hover {\n",
              "      background-color: #E2EBFA;\n",
              "      box-shadow: 0px 1px 2px rgba(60, 64, 67, 0.3), 0px 1px 3px 1px rgba(60, 64, 67, 0.15);\n",
              "      fill: #174EA6;\n",
              "    }\n",
              "\n",
              "    [theme=dark] .colab-df-convert {\n",
              "      background-color: #3B4455;\n",
              "      fill: #D2E3FC;\n",
              "    }\n",
              "\n",
              "    [theme=dark] .colab-df-convert:hover {\n",
              "      background-color: #434B5C;\n",
              "      box-shadow: 0px 1px 3px 1px rgba(0, 0, 0, 0.15);\n",
              "      filter: drop-shadow(0px 1px 2px rgba(0, 0, 0, 0.3));\n",
              "      fill: #FFFFFF;\n",
              "    }\n",
              "  </style>\n",
              "\n",
              "      <script>\n",
              "        const buttonEl =\n",
              "          document.querySelector('#df-f2a6aeb3-cc92-44fa-8a49-72b7f3011751 button.colab-df-convert');\n",
              "        buttonEl.style.display =\n",
              "          google.colab.kernel.accessAllowed ? 'block' : 'none';\n",
              "\n",
              "        async function convertToInteractive(key) {\n",
              "          const element = document.querySelector('#df-f2a6aeb3-cc92-44fa-8a49-72b7f3011751');\n",
              "          const dataTable =\n",
              "            await google.colab.kernel.invokeFunction('convertToInteractive',\n",
              "                                                     [key], {});\n",
              "          if (!dataTable) return;\n",
              "\n",
              "          const docLinkHtml = 'Like what you see? Visit the ' +\n",
              "            '<a target=\"_blank\" href=https://colab.research.google.com/notebooks/data_table.ipynb>data table notebook</a>'\n",
              "            + ' to learn more about interactive tables.';\n",
              "          element.innerHTML = '';\n",
              "          dataTable['output_type'] = 'display_data';\n",
              "          await google.colab.output.renderOutput(dataTable, element);\n",
              "          const docLink = document.createElement('div');\n",
              "          docLink.innerHTML = docLinkHtml;\n",
              "          element.appendChild(docLink);\n",
              "        }\n",
              "      </script>\n",
              "    </div>\n",
              "  </div>\n",
              "  "
            ]
          },
          "metadata": {},
          "execution_count": 8
        }
      ]
    },
    {
      "cell_type": "code",
      "source": [
        "#to remove spaces in passenger title column values\n",
        "titanic_df['passenger title']=titanic_df['passenger title'].str.strip()"
      ],
      "metadata": {
        "id": "3hdkCgNPUufZ"
      },
      "execution_count": 9,
      "outputs": []
    },
    {
      "cell_type": "markdown",
      "source": [
        "*These titles can be categorise in different segments e.g. religious titles, noble title etc. Let's categorise*"
      ],
      "metadata": {
        "id": "10iOKu2SU4YD"
      }
    },
    {
      "cell_type": "code",
      "source": [
        "#creating a dictionary to map\n",
        "status_map={'Military':'Capt',\n",
        "            'Col':'Military',\n",
        "            'Don':'Noble',\n",
        "            'Dona':'Noble',\n",
        "            'Dr':'Dr',\n",
        "            'Jonkheer':'Noble',\n",
        "            'Lady':'Noble',\n",
        "            'Major':'Military',\n",
        "            'Master':'Common',\n",
        "            'Miss':'Common',\n",
        "            'Mlle':'Common',\n",
        "            'Mme':'Common',\n",
        "            'Mr':'Common',\n",
        "            'Mrs':'Common',\n",
        "            'Ms':'Common',\n",
        "            'Rev':'Clergy',\n",
        "            'Sir':'Noble',\n",
        "            'the Countess':'Noble'}\n",
        "\n",
        "#creating a new column \n",
        "titanic_df['social status'] = titanic_df['passenger title'].map(status_map)\n",
        "#dropping passenger title column\n",
        "titanic_df.drop(columns = ['passenger title'],inplace = True)"
      ],
      "metadata": {
        "id": "_MRDwxHAVMho"
      },
      "execution_count": 10,
      "outputs": []
    },
    {
      "cell_type": "markdown",
      "source": [
        "*Cabin feature consists of deck and no. deck could be helpful to predict whether a passenger survived or not. So, let's extract deck from cabin feature*"
      ],
      "metadata": {
        "id": "u3pwTVPtWE1T"
      }
    },
    {
      "cell_type": "code",
      "source": [
        "#extracting deck feature\n",
        "titanic_df['deck'] = titanic_df['cabin'].str.replace('[0-9]','').str.split(' ', expand=True)[0]\n",
        "#dropping columns 'cabin'\n",
        "titanic_df.drop(columns = ['cabin'],inplace = True)"
      ],
      "metadata": {
        "colab": {
          "base_uri": "https://localhost:8080/"
        },
        "id": "EeXK_Ex4WfbL",
        "outputId": "07e66a8f-49c3-4ae7-82fb-c97a56b49831"
      },
      "execution_count": 11,
      "outputs": [
        {
          "output_type": "stream",
          "name": "stderr",
          "text": [
            "/usr/local/lib/python3.7/dist-packages/ipykernel_launcher.py:2: FutureWarning: The default value of regex will change from True to False in a future version.\n",
            "  \n"
          ]
        }
      ]
    },
    {
      "cell_type": "markdown",
      "source": [
        "*As 'sibsp' and 'parch' represents information of the family memebers in a ship for a passenger, so we can replace these two columns with ' no. of family memebers in a ship' feature. Let's do this.*"
      ],
      "metadata": {
        "id": "D5tn-Qvw8al0"
      }
    },
    {
      "cell_type": "code",
      "source": [
        "#creating new feature 'family_members'\n",
        "titanic_df['family_members'] = titanic_df['sibsp'] + titanic_df['parch']\n",
        "#dropping columns 'sibsp' and 'parch'\n",
        "titanic_df.drop(columns = ['sibsp', 'parch'],inplace = True)"
      ],
      "metadata": {
        "id": "GjYATcyM8uDA"
      },
      "execution_count": 12,
      "outputs": []
    },
    {
      "cell_type": "markdown",
      "source": [
        "*Boat and Body feature might help i survival prediction but as there are lot of null values in these features, so it will be good to drop these features*"
      ],
      "metadata": {
        "id": "b_Me-6ZCXMeU"
      }
    },
    {
      "cell_type": "code",
      "source": [
        "#dropping features\n",
        "titanic_df.drop(columns = ['boat','body'],inplace = True)"
      ],
      "metadata": {
        "id": "QD5GzdvXW-fD"
      },
      "execution_count": 13,
      "outputs": []
    },
    {
      "cell_type": "code",
      "source": [
        "#checking basic info of the data\n",
        "titanic_df.info()"
      ],
      "metadata": {
        "colab": {
          "base_uri": "https://localhost:8080/"
        },
        "id": "2aa4TfVciQ45",
        "outputId": "84f06496-9b23-4da1-9814-1e5fbfcff367"
      },
      "execution_count": 14,
      "outputs": [
        {
          "output_type": "stream",
          "name": "stdout",
          "text": [
            "<class 'pandas.core.frame.DataFrame'>\n",
            "RangeIndex: 1309 entries, 0 to 1308\n",
            "Data columns (total 11 columns):\n",
            " #   Column          Non-Null Count  Dtype   \n",
            "---  ------          --------------  -----   \n",
            " 0   pclass          1309 non-null   float64 \n",
            " 1   sex             1309 non-null   category\n",
            " 2   age             1046 non-null   float64 \n",
            " 3   ticket          1309 non-null   object  \n",
            " 4   fare            1308 non-null   float64 \n",
            " 5   embarked        1307 non-null   category\n",
            " 6   home.dest       745 non-null    object  \n",
            " 7   survived        1309 non-null   category\n",
            " 8   social status   1308 non-null   object  \n",
            " 9   deck            295 non-null    object  \n",
            " 10  family_members  1309 non-null   float64 \n",
            "dtypes: category(3), float64(4), object(4)\n",
            "memory usage: 86.1+ KB\n"
          ]
        }
      ]
    },
    {
      "cell_type": "code",
      "source": [
        "#converting datatype of embarked to object ( as category datatype does not allow new category to add on)\n",
        "titanic_df['embarked'] = titanic_df['embarked'].astype('str')\n",
        "titanic_df['sex'] = titanic_df['sex'].astype('str')\n",
        "titanic_df['survived'] = titanic_df['survived'].astype('float')"
      ],
      "metadata": {
        "id": "TxvvUOH4hDCr"
      },
      "execution_count": 15,
      "outputs": []
    },
    {
      "cell_type": "code",
      "source": [
        "#checking value counts of some features\n",
        "list_to_check = ['pclass','sex','embarked']\n",
        "for features in list_to_check:\n",
        "  print('Unique values of feature ' +  features +' are :')\n",
        "  print(titanic_df[features].value_counts())\n",
        "  print('\\n')\n",
        "  print('--------*--------')\n",
        "  print('\\n')"
      ],
      "metadata": {
        "colab": {
          "base_uri": "https://localhost:8080/"
        },
        "id": "WyZm5f335ymv",
        "outputId": "36695245-182d-46a3-c1ca-e4e51deb76d6"
      },
      "execution_count": 16,
      "outputs": [
        {
          "output_type": "stream",
          "name": "stdout",
          "text": [
            "Unique values of feature pclass are :\n",
            "3.0    709\n",
            "1.0    323\n",
            "2.0    277\n",
            "Name: pclass, dtype: int64\n",
            "\n",
            "\n",
            "--------*--------\n",
            "\n",
            "\n",
            "Unique values of feature sex are :\n",
            "male      843\n",
            "female    466\n",
            "Name: sex, dtype: int64\n",
            "\n",
            "\n",
            "--------*--------\n",
            "\n",
            "\n",
            "Unique values of feature embarked are :\n",
            "S      914\n",
            "C      270\n",
            "Q      123\n",
            "nan      2\n",
            "Name: embarked, dtype: int64\n",
            "\n",
            "\n",
            "--------*--------\n",
            "\n",
            "\n"
          ]
        }
      ]
    },
    {
      "cell_type": "markdown",
      "source": [
        "*There are some features with missing values. Let's try to impute these null values*"
      ],
      "metadata": {
        "id": "lSbZ1M9g2W_0"
      }
    },
    {
      "cell_type": "markdown",
      "source": [
        "***Imputation***"
      ],
      "metadata": {
        "id": "sXaCzVb7WtN0"
      }
    },
    {
      "cell_type": "code",
      "source": [
        "#converting datatype of embarked to object ( as category datatype does not allow new category to add on)\n",
        "titanic_df['embarked'] = titanic_df['embarked'].astype('object')"
      ],
      "metadata": {
        "id": "zezYduYjuUwt"
      },
      "execution_count": 17,
      "outputs": []
    },
    {
      "cell_type": "markdown",
      "source": [
        "*For non continuous features let's impute null values with NA*"
      ],
      "metadata": {
        "id": "VzGrBAPdrdp9"
      }
    },
    {
      "cell_type": "code",
      "source": [
        "##imputing null values with NA \n",
        "\n",
        "#for 'deck' column\n",
        "titanic_df['deck'] = titanic_df['deck'].fillna('Not Available')\n",
        "#for 'embarked' column\n",
        "titanic_df['embarked'] = titanic_df['embarked'].fillna('Not Available')\n",
        "#for 'home.dest' column\n",
        "titanic_df['home.dest'] = titanic_df['home.dest'].fillna('Not Available')\n",
        "#for 'social status' column\n",
        "titanic_df['social status'] = titanic_df['social status'].fillna('Not Available')"
      ],
      "metadata": {
        "id": "QlC5rxktrlAh"
      },
      "execution_count": 18,
      "outputs": []
    },
    {
      "cell_type": "code",
      "source": [
        "#imputing null values of 'age' with mean of age\n",
        "titanic_df['age'] = titanic_df['age'].fillna(titanic_df['age'].mean())\n",
        "\n",
        "#imputing null values of 'fare' with mode of fare\n",
        "titanic_df['fare'] = titanic_df['fare'].fillna(titanic_df['fare'].mode()[0])"
      ],
      "metadata": {
        "id": "89yVhhOjsB_y"
      },
      "execution_count": 19,
      "outputs": []
    },
    {
      "cell_type": "markdown",
      "source": [
        "*okay, so done with null value treatment*"
      ],
      "metadata": {
        "id": "22QXUJp93YSg"
      }
    },
    {
      "cell_type": "code",
      "source": [
        "titanic_df.head()"
      ],
      "metadata": {
        "colab": {
          "base_uri": "https://localhost:8080/",
          "height": 206
        },
        "id": "t6PyAYm5YhL4",
        "outputId": "9910d1a2-ebf5-458b-b1e5-9080be8834d7"
      },
      "execution_count": 20,
      "outputs": [
        {
          "output_type": "execute_result",
          "data": {
            "text/plain": [
              "   pclass     sex      age  ticket      fare embarked  \\\n",
              "0     1.0  female  29.0000   24160  211.3375        S   \n",
              "1     1.0    male   0.9167  113781  151.5500        S   \n",
              "2     1.0  female   2.0000  113781  151.5500        S   \n",
              "3     1.0    male  30.0000  113781  151.5500        S   \n",
              "4     1.0  female  25.0000  113781  151.5500        S   \n",
              "\n",
              "                         home.dest  survived social status deck  \\\n",
              "0                     St Louis, MO       1.0        Common    B   \n",
              "1  Montreal, PQ / Chesterville, ON       1.0        Common    C   \n",
              "2  Montreal, PQ / Chesterville, ON       0.0        Common    C   \n",
              "3  Montreal, PQ / Chesterville, ON       0.0        Common    C   \n",
              "4  Montreal, PQ / Chesterville, ON       0.0        Common    C   \n",
              "\n",
              "   family_members  \n",
              "0             0.0  \n",
              "1             3.0  \n",
              "2             3.0  \n",
              "3             3.0  \n",
              "4             3.0  "
            ],
            "text/html": [
              "\n",
              "  <div id=\"df-cac90312-896a-47bc-81dc-43dac92c8de5\">\n",
              "    <div class=\"colab-df-container\">\n",
              "      <div>\n",
              "<style scoped>\n",
              "    .dataframe tbody tr th:only-of-type {\n",
              "        vertical-align: middle;\n",
              "    }\n",
              "\n",
              "    .dataframe tbody tr th {\n",
              "        vertical-align: top;\n",
              "    }\n",
              "\n",
              "    .dataframe thead th {\n",
              "        text-align: right;\n",
              "    }\n",
              "</style>\n",
              "<table border=\"1\" class=\"dataframe\">\n",
              "  <thead>\n",
              "    <tr style=\"text-align: right;\">\n",
              "      <th></th>\n",
              "      <th>pclass</th>\n",
              "      <th>sex</th>\n",
              "      <th>age</th>\n",
              "      <th>ticket</th>\n",
              "      <th>fare</th>\n",
              "      <th>embarked</th>\n",
              "      <th>home.dest</th>\n",
              "      <th>survived</th>\n",
              "      <th>social status</th>\n",
              "      <th>deck</th>\n",
              "      <th>family_members</th>\n",
              "    </tr>\n",
              "  </thead>\n",
              "  <tbody>\n",
              "    <tr>\n",
              "      <th>0</th>\n",
              "      <td>1.0</td>\n",
              "      <td>female</td>\n",
              "      <td>29.0000</td>\n",
              "      <td>24160</td>\n",
              "      <td>211.3375</td>\n",
              "      <td>S</td>\n",
              "      <td>St Louis, MO</td>\n",
              "      <td>1.0</td>\n",
              "      <td>Common</td>\n",
              "      <td>B</td>\n",
              "      <td>0.0</td>\n",
              "    </tr>\n",
              "    <tr>\n",
              "      <th>1</th>\n",
              "      <td>1.0</td>\n",
              "      <td>male</td>\n",
              "      <td>0.9167</td>\n",
              "      <td>113781</td>\n",
              "      <td>151.5500</td>\n",
              "      <td>S</td>\n",
              "      <td>Montreal, PQ / Chesterville, ON</td>\n",
              "      <td>1.0</td>\n",
              "      <td>Common</td>\n",
              "      <td>C</td>\n",
              "      <td>3.0</td>\n",
              "    </tr>\n",
              "    <tr>\n",
              "      <th>2</th>\n",
              "      <td>1.0</td>\n",
              "      <td>female</td>\n",
              "      <td>2.0000</td>\n",
              "      <td>113781</td>\n",
              "      <td>151.5500</td>\n",
              "      <td>S</td>\n",
              "      <td>Montreal, PQ / Chesterville, ON</td>\n",
              "      <td>0.0</td>\n",
              "      <td>Common</td>\n",
              "      <td>C</td>\n",
              "      <td>3.0</td>\n",
              "    </tr>\n",
              "    <tr>\n",
              "      <th>3</th>\n",
              "      <td>1.0</td>\n",
              "      <td>male</td>\n",
              "      <td>30.0000</td>\n",
              "      <td>113781</td>\n",
              "      <td>151.5500</td>\n",
              "      <td>S</td>\n",
              "      <td>Montreal, PQ / Chesterville, ON</td>\n",
              "      <td>0.0</td>\n",
              "      <td>Common</td>\n",
              "      <td>C</td>\n",
              "      <td>3.0</td>\n",
              "    </tr>\n",
              "    <tr>\n",
              "      <th>4</th>\n",
              "      <td>1.0</td>\n",
              "      <td>female</td>\n",
              "      <td>25.0000</td>\n",
              "      <td>113781</td>\n",
              "      <td>151.5500</td>\n",
              "      <td>S</td>\n",
              "      <td>Montreal, PQ / Chesterville, ON</td>\n",
              "      <td>0.0</td>\n",
              "      <td>Common</td>\n",
              "      <td>C</td>\n",
              "      <td>3.0</td>\n",
              "    </tr>\n",
              "  </tbody>\n",
              "</table>\n",
              "</div>\n",
              "      <button class=\"colab-df-convert\" onclick=\"convertToInteractive('df-cac90312-896a-47bc-81dc-43dac92c8de5')\"\n",
              "              title=\"Convert this dataframe to an interactive table.\"\n",
              "              style=\"display:none;\">\n",
              "        \n",
              "  <svg xmlns=\"http://www.w3.org/2000/svg\" height=\"24px\"viewBox=\"0 0 24 24\"\n",
              "       width=\"24px\">\n",
              "    <path d=\"M0 0h24v24H0V0z\" fill=\"none\"/>\n",
              "    <path d=\"M18.56 5.44l.94 2.06.94-2.06 2.06-.94-2.06-.94-.94-2.06-.94 2.06-2.06.94zm-11 1L8.5 8.5l.94-2.06 2.06-.94-2.06-.94L8.5 2.5l-.94 2.06-2.06.94zm10 10l.94 2.06.94-2.06 2.06-.94-2.06-.94-.94-2.06-.94 2.06-2.06.94z\"/><path d=\"M17.41 7.96l-1.37-1.37c-.4-.4-.92-.59-1.43-.59-.52 0-1.04.2-1.43.59L10.3 9.45l-7.72 7.72c-.78.78-.78 2.05 0 2.83L4 21.41c.39.39.9.59 1.41.59.51 0 1.02-.2 1.41-.59l7.78-7.78 2.81-2.81c.8-.78.8-2.07 0-2.86zM5.41 20L4 18.59l7.72-7.72 1.47 1.35L5.41 20z\"/>\n",
              "  </svg>\n",
              "      </button>\n",
              "      \n",
              "  <style>\n",
              "    .colab-df-container {\n",
              "      display:flex;\n",
              "      flex-wrap:wrap;\n",
              "      gap: 12px;\n",
              "    }\n",
              "\n",
              "    .colab-df-convert {\n",
              "      background-color: #E8F0FE;\n",
              "      border: none;\n",
              "      border-radius: 50%;\n",
              "      cursor: pointer;\n",
              "      display: none;\n",
              "      fill: #1967D2;\n",
              "      height: 32px;\n",
              "      padding: 0 0 0 0;\n",
              "      width: 32px;\n",
              "    }\n",
              "\n",
              "    .colab-df-convert:hover {\n",
              "      background-color: #E2EBFA;\n",
              "      box-shadow: 0px 1px 2px rgba(60, 64, 67, 0.3), 0px 1px 3px 1px rgba(60, 64, 67, 0.15);\n",
              "      fill: #174EA6;\n",
              "    }\n",
              "\n",
              "    [theme=dark] .colab-df-convert {\n",
              "      background-color: #3B4455;\n",
              "      fill: #D2E3FC;\n",
              "    }\n",
              "\n",
              "    [theme=dark] .colab-df-convert:hover {\n",
              "      background-color: #434B5C;\n",
              "      box-shadow: 0px 1px 3px 1px rgba(0, 0, 0, 0.15);\n",
              "      filter: drop-shadow(0px 1px 2px rgba(0, 0, 0, 0.3));\n",
              "      fill: #FFFFFF;\n",
              "    }\n",
              "  </style>\n",
              "\n",
              "      <script>\n",
              "        const buttonEl =\n",
              "          document.querySelector('#df-cac90312-896a-47bc-81dc-43dac92c8de5 button.colab-df-convert');\n",
              "        buttonEl.style.display =\n",
              "          google.colab.kernel.accessAllowed ? 'block' : 'none';\n",
              "\n",
              "        async function convertToInteractive(key) {\n",
              "          const element = document.querySelector('#df-cac90312-896a-47bc-81dc-43dac92c8de5');\n",
              "          const dataTable =\n",
              "            await google.colab.kernel.invokeFunction('convertToInteractive',\n",
              "                                                     [key], {});\n",
              "          if (!dataTable) return;\n",
              "\n",
              "          const docLinkHtml = 'Like what you see? Visit the ' +\n",
              "            '<a target=\"_blank\" href=https://colab.research.google.com/notebooks/data_table.ipynb>data table notebook</a>'\n",
              "            + ' to learn more about interactive tables.';\n",
              "          element.innerHTML = '';\n",
              "          dataTable['output_type'] = 'display_data';\n",
              "          await google.colab.output.renderOutput(dataTable, element);\n",
              "          const docLink = document.createElement('div');\n",
              "          docLink.innerHTML = docLinkHtml;\n",
              "          element.appendChild(docLink);\n",
              "        }\n",
              "      </script>\n",
              "    </div>\n",
              "  </div>\n",
              "  "
            ]
          },
          "metadata": {},
          "execution_count": 20
        }
      ]
    },
    {
      "cell_type": "code",
      "source": [
        "#dropping home.dest and ticket column\n",
        "titanic_df.drop(columns = 'home.dest',inplace =True)\n",
        "titanic_df.drop(columns = 'ticket',inplace =True)"
      ],
      "metadata": {
        "id": "SRQ5PyawD1g8"
      },
      "execution_count": 21,
      "outputs": []
    },
    {
      "cell_type": "markdown",
      "source": [
        "##***Exploratory Data Analysis***"
      ],
      "metadata": {
        "id": "K4Bboy7e3V-1"
      }
    },
    {
      "cell_type": "markdown",
      "source": [
        "###***Survived feature analysis***"
      ],
      "metadata": {
        "id": "mAqyu6UCrXwR"
      }
    },
    {
      "cell_type": "code",
      "source": [
        "#percentage of people survived in titanic\n",
        "titanic_df['survived'].mean()"
      ],
      "metadata": {
        "colab": {
          "base_uri": "https://localhost:8080/"
        },
        "id": "MQDTveNTfbtE",
        "outputId": "41edeef3-bfe6-443d-abe2-a300ea851377"
      },
      "execution_count": 22,
      "outputs": [
        {
          "output_type": "execute_result",
          "data": {
            "text/plain": [
              "0.3819709702062643"
            ]
          },
          "metadata": {},
          "execution_count": 22
        }
      ]
    },
    {
      "cell_type": "markdown",
      "source": [
        "*okay so about 38% people survived in titanic*"
      ],
      "metadata": {
        "id": "j_LFCJLjhdOB"
      }
    },
    {
      "cell_type": "code",
      "source": [
        "#visualising no. of people survived \n",
        "titanic_df['survived'].value_counts().plot.bar(color = 'y')   #bar plot\n",
        "plt.title('survived vs not survived')\n",
        "plt.xlabel('survival')\n",
        "plt.ylabel('no. of passengers')\n",
        "plt.show()"
      ],
      "metadata": {
        "colab": {
          "base_uri": "https://localhost:8080/",
          "height": 301
        },
        "id": "UwesnXREhkaZ",
        "outputId": "01bea8ea-e80b-498c-cf7a-ccf200ed417c"
      },
      "execution_count": 23,
      "outputs": [
        {
          "output_type": "display_data",
          "data": {
            "text/plain": [
              "<Figure size 432x288 with 1 Axes>"
            ],
            "image/png": "[encoded data removed]"
          },
          "metadata": {
            "needs_background": "light"
          }
        }
      ]
    },
    {
      "cell_type": "markdown",
      "source": [
        "*we can see, more no. of people died than survived* "
      ],
      "metadata": {
        "id": "pEdwjAE9oHRn"
      }
    },
    {
      "cell_type": "markdown",
      "source": [
        "###***pclass feature analysis***"
      ],
      "metadata": {
        "id": "cuBU08_arz1C"
      }
    },
    {
      "cell_type": "code",
      "source": [
        "#visualising no. of passengers in different classes\n",
        "titanic_df['pclass'].value_counts().plot.bar(color = 'olive')\n",
        "plt.title('count of passengers in different classes')\n",
        "plt.xlabel('passenger class')\n",
        "plt.ylabel('no. of passengers')\n",
        "plt.show()"
      ],
      "metadata": {
        "colab": {
          "base_uri": "https://localhost:8080/",
          "height": 301
        },
        "id": "eGhrDY21r5UX",
        "outputId": "0a264989-4ab6-4572-ba7f-e2395d771b3d"
      },
      "execution_count": 24,
      "outputs": [
        {
          "output_type": "display_data",
          "data": {
            "text/plain": [
              "<Figure size 432x288 with 1 Axes>"
            ],
            "image/png": "[encoded data removed]"
          },
          "metadata": {
            "needs_background": "light"
          }
        }
      ]
    },
    {
      "cell_type": "markdown",
      "source": [
        "*Most of the passengers belongs to 3rd class*"
      ],
      "metadata": {
        "id": "APo0waMktbRa"
      }
    },
    {
      "cell_type": "code",
      "source": [
        "#visualising affect of pclass on survival\n",
        "titanic_df.groupby(['survived','pclass']).agg({'survived':'count'}).unstack().plot.bar()   #bar plot\n",
        "plt.title('passenger survival status for different pclass')\n",
        "plt.xlabel('passenger class & survival status')\n",
        "plt.ylabel('no. of passengers')\n",
        "plt.show()"
      ],
      "metadata": {
        "colab": {
          "base_uri": "https://localhost:8080/",
          "height": 301
        },
        "id": "WJglEh9Ftg75",
        "outputId": "636a5c6f-736f-4eac-e8b2-1be2f193c7f4"
      },
      "execution_count": 25,
      "outputs": [
        {
          "output_type": "display_data",
          "data": {
            "text/plain": [
              "<Figure size 432x288 with 1 Axes>"
            ],
            "image/png": "[encoded data removed]"
          },
          "metadata": {
            "needs_background": "light"
          }
        }
      ]
    },
    {
      "cell_type": "markdown",
      "source": [
        "*We can see, only for 1st class more no. of people survived than died*"
      ],
      "metadata": {
        "id": "fp8BtZMBTqrt"
      }
    },
    {
      "cell_type": "markdown",
      "source": [
        "**Observations**\n",
        "\n",
        "* *Passengers of 1st class was able to survive in comparison to other classes*\n",
        "* *Most of the people belonged to 3rd class in titanic and only few people were able to survive from 3rd class*\n",
        "\n",
        "*It might be possible that because people in 1st class belonged to high status family so they were given priority to escape and prevent themselves*"
      ],
      "metadata": {
        "id": "Atc_2AJt522U"
      }
    },
    {
      "cell_type": "code",
      "source": [
        "#percentage of people survived in different pclass\n",
        "titanic_df['survived'].groupby(titanic_df['pclass']).mean().plot(kind='bar')\n",
        "plt.title('percentage of passenger survived in different pclass')\n",
        "plt.show()"
      ],
      "metadata": {
        "colab": {
          "base_uri": "https://localhost:8080/",
          "height": 301
        },
        "id": "d-zqTLR8Hy3A",
        "outputId": "2d5fa9b8-f72e-469d-f7ec-b14a9cf4cc5a"
      },
      "execution_count": 26,
      "outputs": [
        {
          "output_type": "display_data",
          "data": {
            "text/plain": [
              "<Figure size 432x288 with 1 Axes>"
            ],
            "image/png": "[encoded data removed]"
          },
          "metadata": {
            "needs_background": "light"
          }
        }
      ]
    },
    {
      "cell_type": "code",
      "source": [
        "#alternate approach for the above method\n",
        "#pd.crosstab(titanic_df['survived'],titanic_df['pclass']).plot(kind='bar')"
      ],
      "metadata": {
        "id": "Fv5XVC0m4Fxe"
      },
      "execution_count": 27,
      "outputs": []
    },
    {
      "cell_type": "markdown",
      "source": [
        "###***Sex feature analysis***"
      ],
      "metadata": {
        "id": "IRJFe8Sd7ZwH"
      }
    },
    {
      "cell_type": "code",
      "source": [
        "#visualising no. of people on gender basis\n",
        "titanic_df['sex'].value_counts().plot.bar()\n",
        "plt.title('male & female passengers')\n",
        "plt.xlabel('gender')\n",
        "plt.ylabel('no. of passengers')\n",
        "plt.show()"
      ],
      "metadata": {
        "colab": {
          "base_uri": "https://localhost:8080/",
          "height": 320
        },
        "id": "QH777GDj7ZJo",
        "outputId": "ef18a054-70e2-4b86-daed-4cf42a3072b6"
      },
      "execution_count": 28,
      "outputs": [
        {
          "output_type": "display_data",
          "data": {
            "text/plain": [
              "<Figure size 432x288 with 1 Axes>"
            ],
            "image/png": "[encoded data removed]"
          },
          "metadata": {
            "needs_background": "light"
          }
        }
      ]
    },
    {
      "cell_type": "markdown",
      "source": [
        "*okay so, male passengers were more in comparison to female passengers*"
      ],
      "metadata": {
        "id": "zrEaSHWD76N0"
      }
    },
    {
      "cell_type": "code",
      "source": [
        "#visualising affect of gender on survival\n",
        "titanic_df.groupby(['survived','sex']).agg({'survived':'count'}).unstack().plot.bar()   #bar plot\n",
        "plt.title('passenger survival status on gender basis')\n",
        "plt.xlabel('passenger sex & survival status')\n",
        "plt.ylabel('no. of passengers')\n",
        "plt.show()"
      ],
      "metadata": {
        "colab": {
          "base_uri": "https://localhost:8080/",
          "height": 301
        },
        "id": "8CVxW-sB75J4",
        "outputId": "3cfcf28a-0743-462e-ef16-7ec03c758415"
      },
      "execution_count": 29,
      "outputs": [
        {
          "output_type": "display_data",
          "data": {
            "text/plain": [
              "<Figure size 432x288 with 1 Axes>"
            ],
            "image/png": "[encoded data removed]"
          },
          "metadata": {
            "needs_background": "light"
          }
        }
      ]
    },
    {
      "cell_type": "markdown",
      "source": [
        "**Observation**\n",
        "\n",
        "* *Male passengers were more but females were given priority to escape from the ship*"
      ],
      "metadata": {
        "id": "_zanq2CA8hqk"
      }
    },
    {
      "cell_type": "markdown",
      "source": [
        "###***Age feature analysis***"
      ],
      "metadata": {
        "id": "ZPzVGxKT9jKv"
      }
    },
    {
      "cell_type": "code",
      "source": [
        "#visualising distribution of age feature\n",
        "sns.distplot(titanic_df['age'], color = 'olive')\n",
        "plt.title('Age distribution')\n",
        "plt.show()"
      ],
      "metadata": {
        "colab": {
          "base_uri": "https://localhost:8080/",
          "height": 350
        },
        "id": "ZrJnEPI79s4w",
        "outputId": "3960b891-bfcf-469b-a02d-bbe9286c0b7a"
      },
      "execution_count": 30,
      "outputs": [
        {
          "output_type": "stream",
          "name": "stderr",
          "text": [
            "/usr/local/lib/python3.7/dist-packages/seaborn/distributions.py:2619: FutureWarning: `distplot` is a deprecated function and will be removed in a future version. Please adapt your code to use either `displot` (a figure-level function with similar flexibility) or `histplot` (an axes-level function for histograms).\n",
            "  warnings.warn(msg, FutureWarning)\n"
          ]
        },
        {
          "output_type": "display_data",
          "data": {
            "text/plain": [
              "<Figure size 432x288 with 1 Axes>"
            ],
            "image/png": "[encoded data removed]"
          },
          "metadata": {
            "needs_background": "light"
          }
        }
      ]
    },
    {
      "cell_type": "markdown",
      "source": [
        "*Looks like most of the passengers in their 30s*"
      ],
      "metadata": {
        "id": "CbbgwXqRTzoJ"
      }
    },
    {
      "cell_type": "code",
      "source": [
        "#grouping the passengers wrt age to create new feature age group\n",
        "#defing a function for the same\n",
        "def age_grp(x):\n",
        "  if 0<= x <= 10:\n",
        "    y = '0 to 10'\n",
        "  if 10< x <= 20:\n",
        "    y = '11 to 20'\n",
        "  if 20< x <= 30:\n",
        "    y = '21 to 30'\n",
        "  if 30< x <= 40:\n",
        "    y = '31 to 40' \n",
        "  if 40< x <= 50:\n",
        "    y = '41 to 50'  \n",
        "  if 50< x <= 60:\n",
        "    y = '51 to 60'\n",
        "  if 60< x <= 70:\n",
        "    y = '61 to 70'  \n",
        "  if 70< x :\n",
        "    y = '70 above' \n",
        "  return y         \n",
        "\n",
        "#creating a new feature age group\n",
        "titanic_df['age group'] = titanic_df['age'].apply(age_grp)   "
      ],
      "metadata": {
        "id": "1mZ8YnH9T7C0"
      },
      "execution_count": 31,
      "outputs": []
    },
    {
      "cell_type": "code",
      "source": [
        "#visualising no. of passengers of different age groups\n",
        "titanic_df['age group'].value_counts().plot.bar()\n",
        "plt.title('passengers of different age groups')\n",
        "plt.xlabel('age group')\n",
        "plt.ylabel('no. of passengers')\n",
        "plt.show()"
      ],
      "metadata": {
        "colab": {
          "base_uri": "https://localhost:8080/",
          "height": 331
        },
        "id": "ce16Spq2VxQ6",
        "outputId": "8825a837-840f-436b-cddb-d34f2cff0442"
      },
      "execution_count": 32,
      "outputs": [
        {
          "output_type": "display_data",
          "data": {
            "text/plain": [
              "<Figure size 432x288 with 1 Axes>"
            ],
            "image/png": "[encoded data removed]"
          },
          "metadata": {
            "needs_background": "light"
          }
        }
      ]
    },
    {
      "cell_type": "markdown",
      "source": [
        "*yes, most of the passengers are between 20 -30*"
      ],
      "metadata": {
        "id": "87JGZA-3YspF"
      }
    },
    {
      "cell_type": "code",
      "source": [
        "#visualising affect of age group on survival\n",
        "plt.rcParams['figure.figsize'] = (8,4)   #defing figure size\n",
        "titanic_df.groupby(['survived','age group']).agg({'survived':'count'}).unstack().plot.bar()   #bar plot\n",
        "plt.title('passenger survival on age group basis')\n",
        "plt.xlabel('passenger survival & age group')\n",
        "plt.ylabel('no. of passengers')\n",
        "plt.show()"
      ],
      "metadata": {
        "colab": {
          "base_uri": "https://localhost:8080/",
          "height": 301
        },
        "id": "WRRA7gb7Xgh9",
        "outputId": "396ebd21-c2f2-4249-c60d-e16ea5ad3d26"
      },
      "execution_count": 33,
      "outputs": [
        {
          "output_type": "display_data",
          "data": {
            "text/plain": [
              "<Figure size 576x288 with 1 Axes>"
            ],
            "image/png": "[encoded data removed]"
          },
          "metadata": {
            "needs_background": "light"
          }
        }
      ]
    },
    {
      "cell_type": "markdown",
      "source": [
        "*There are more no. of people who died than survived for each age group except the age group 0-10, may be children were on priority along wirth females to escape from the ship*"
      ],
      "metadata": {
        "id": "22DCMd5gZQiJ"
      }
    },
    {
      "cell_type": "code",
      "source": [
        "#percentage of people survived for different age groups\n",
        "titanic_df['survived'].groupby(titanic_df['age group']).mean().plot(kind='bar')\n",
        "plt.title('percentage of passenger survived for different age groups')\n",
        "plt.show()"
      ],
      "metadata": {
        "colab": {
          "base_uri": "https://localhost:8080/",
          "height": 331
        },
        "id": "pH877glAW4hq",
        "outputId": "45778c09-4092-498c-9fe7-37f95c7eac0e"
      },
      "execution_count": 34,
      "outputs": [
        {
          "output_type": "display_data",
          "data": {
            "text/plain": [
              "<Figure size 576x288 with 1 Axes>"
            ],
            "image/png": "[encoded data removed]"
          },
          "metadata": {
            "needs_background": "light"
          }
        }
      ]
    },
    {
      "cell_type": "code",
      "source": [
        "#dropping age column\n",
        "titanic_df.drop(columns = 'age',inplace =True)"
      ],
      "metadata": {
        "id": "D2oKZ2pZMoBy"
      },
      "execution_count": 35,
      "outputs": []
    },
    {
      "cell_type": "markdown",
      "source": [
        "###***Fare feature analysis***"
      ],
      "metadata": {
        "id": "EyLhO17Uaz56"
      }
    },
    {
      "cell_type": "code",
      "source": [
        "#visualising distribution of fare\n",
        "sns.distplot(titanic_df['fare'], color = 'y')\n",
        "plt.title('Fare distribution')\n",
        "plt.show()"
      ],
      "metadata": {
        "colab": {
          "base_uri": "https://localhost:8080/",
          "height": 350
        },
        "id": "SmGHPrPda4Iy",
        "outputId": "ae552441-fbcc-4a5e-e565-6e0c4cbbfe30"
      },
      "execution_count": 36,
      "outputs": [
        {
          "output_type": "stream",
          "name": "stderr",
          "text": [
            "/usr/local/lib/python3.7/dist-packages/seaborn/distributions.py:2619: FutureWarning: `distplot` is a deprecated function and will be removed in a future version. Please adapt your code to use either `displot` (a figure-level function with similar flexibility) or `histplot` (an axes-level function for histograms).\n",
            "  warnings.warn(msg, FutureWarning)\n"
          ]
        },
        {
          "output_type": "display_data",
          "data": {
            "text/plain": [
              "<Figure size 576x288 with 1 Axes>"
            ],
            "image/png": "[encoded data removed]"
          },
          "metadata": {
            "needs_background": "light"
          }
        }
      ]
    },
    {
      "cell_type": "markdown",
      "source": [
        "*Looks like most of the passengers has around 10-40 $ ticket fare, may be these people were belonging to 3rd class pclass*\n",
        "\n",
        "\n",
        "\n",
        "*Let's group fare feature to create new feature ticket fare groups*"
      ],
      "metadata": {
        "id": "lySwZJytcLjF"
      }
    },
    {
      "cell_type": "code",
      "source": [
        "#defining a function to group passengers on the basis of ticket fare\n",
        "def ticket_fare(x):\n",
        "  if 0 <=x<30:\n",
        "    return 'between 0 to 30'\n",
        "  if 30 <=x<80:\n",
        "    return 'between 30 to 80'\n",
        "  if 80 <=x<150:\n",
        "    return 'between 80 to 150'\n",
        "  if 150 <=x<250:\n",
        "    return 'between 150 to 250'\n",
        "  if 250 <=x:\n",
        "    return '250 above'    \n",
        "\n",
        "#creating new feature ticket fare group\n",
        "titanic_df['ticket fare group'] = titanic_df['fare'].apply(ticket_fare)         \n"
      ],
      "metadata": {
        "id": "cpCFHS7qcvLf"
      },
      "execution_count": 37,
      "outputs": []
    },
    {
      "cell_type": "code",
      "source": [
        "#visualising no. of passengers of different ticket fare groups\n",
        "titanic_df['ticket fare group'].value_counts().plot.bar()\n",
        "plt.title('passengers of different ticket fare groups')\n",
        "plt.xlabel('ticket fare group ')\n",
        "plt.ylabel('no. of passengers')\n",
        "plt.show()"
      ],
      "metadata": {
        "colab": {
          "base_uri": "https://localhost:8080/",
          "height": 386
        },
        "id": "v8UMCjAZiG7B",
        "outputId": "bcfd2130-5e9d-4b9e-de1f-7f19143d8cb1"
      },
      "execution_count": 38,
      "outputs": [
        {
          "output_type": "display_data",
          "data": {
            "text/plain": [
              "<Figure size 576x288 with 1 Axes>"
            ],
            "image/png": "[encoded data removed]"
          },
          "metadata": {
            "needs_background": "light"
          }
        }
      ]
    },
    {
      "cell_type": "code",
      "source": [
        "#visualising affect of ticket fare groups on survival\n",
        "titanic_df.groupby(['survived','ticket fare group']).agg({'survived':'count'}).unstack().plot.bar()   #bar plot\n",
        "plt.title('passenger survival on ticket fare group basis')\n",
        "plt.xlabel('passenger survival & ticket fare group')\n",
        "plt.ylabel('no. of passengers')\n",
        "plt.show()"
      ],
      "metadata": {
        "colab": {
          "base_uri": "https://localhost:8080/",
          "height": 301
        },
        "id": "DWorShOmicmB",
        "outputId": "69ebffbd-2279-442e-987d-a1579ff31e94"
      },
      "execution_count": 39,
      "outputs": [
        {
          "output_type": "display_data",
          "data": {
            "text/plain": [
              "<Figure size 576x288 with 1 Axes>"
            ],
            "image/png": "[encoded data removed]"
          },
          "metadata": {
            "needs_background": "light"
          }
        }
      ]
    },
    {
      "cell_type": "markdown",
      "source": [
        "*passengers with lowest ticket fares were died the most*"
      ],
      "metadata": {
        "id": "r7fSuae6i9Mp"
      }
    },
    {
      "cell_type": "code",
      "source": [
        "#percentage of people survived for different ticket fare group\n",
        "titanic_df['survived'].groupby(titanic_df['ticket fare group']).mean().plot(kind='bar')\n",
        "plt.title('percentage of passenger survived for different ticket fare group')\n",
        "plt.show()"
      ],
      "metadata": {
        "colab": {
          "base_uri": "https://localhost:8080/",
          "height": 386
        },
        "id": "1294F-zGXvea",
        "outputId": "60bf47bb-0732-4422-a8a4-0ad7d2b02c16"
      },
      "execution_count": 40,
      "outputs": [
        {
          "output_type": "display_data",
          "data": {
            "text/plain": [
              "<Figure size 576x288 with 1 Axes>"
            ],
            "image/png": "[encoded data removed]"
          },
          "metadata": {
            "needs_background": "light"
          }
        }
      ]
    },
    {
      "cell_type": "code",
      "source": [
        "\n",
        "#dropping fare column\n",
        "titanic_df.drop(columns = 'fare',inplace =True)"
      ],
      "metadata": {
        "id": "QN8vAVnnMrE7"
      },
      "execution_count": 41,
      "outputs": []
    },
    {
      "cell_type": "markdown",
      "source": [
        "###***Embarked feature analysis***"
      ],
      "metadata": {
        "id": "2-B9XFojkS0_"
      }
    },
    {
      "cell_type": "code",
      "source": [
        "#visualising counts of different port depature places\n",
        "titanic_df['embarked'].value_counts().plot.bar()\n",
        "plt.title('no. of passengers from different port departures')\n",
        "plt.xlabel('port departures')\n",
        "plt.ylabel('no. of passengers')\n",
        "plt.show()"
      ],
      "metadata": {
        "colab": {
          "base_uri": "https://localhost:8080/",
          "height": 304
        },
        "id": "z69AykxUkWOm",
        "outputId": "4fb92023-5342-4fd8-88dc-047bbcfad277"
      },
      "execution_count": 42,
      "outputs": [
        {
          "output_type": "display_data",
          "data": {
            "text/plain": [
              "<Figure size 576x288 with 1 Axes>"
            ],
            "image/png": "[encoded data removed]"
          },
          "metadata": {
            "needs_background": "light"
          }
        }
      ]
    },
    {
      "cell_type": "markdown",
      "source": [
        "*Most of the passengers were from S = Southampton*"
      ],
      "metadata": {
        "id": "bbb2-ejNlqzJ"
      }
    },
    {
      "cell_type": "code",
      "source": [
        "#visualising affect on survival on port departure place basis\n",
        "titanic_df.groupby(['survived','embarked']).agg({'survived':'count'}).unstack().plot.bar()   #bar plot\n",
        "plt.title('passenger survival on port departure place basis')\n",
        "plt.xlabel('passenger survival & port departure place')\n",
        "plt.ylabel('no. of passengers')\n",
        "plt.show()"
      ],
      "metadata": {
        "colab": {
          "base_uri": "https://localhost:8080/",
          "height": 301
        },
        "id": "I9Z2xJCWlEZ8",
        "outputId": "813322d3-191d-4520-adc1-9e7afd040789"
      },
      "execution_count": 43,
      "outputs": [
        {
          "output_type": "display_data",
          "data": {
            "text/plain": [
              "<Figure size 576x288 with 1 Axes>"
            ],
            "image/png": "[encoded data removed]"
          },
          "metadata": {
            "needs_background": "light"
          }
        }
      ]
    },
    {
      "cell_type": "code",
      "source": [
        "#percentage of passenger survived from different port departures\n",
        "titanic_df['survived'].groupby(titanic_df['embarked']).mean().plot(kind='bar')\n",
        "plt.title('percentage of people survived from different port departures')\n",
        "plt.show()"
      ],
      "metadata": {
        "colab": {
          "base_uri": "https://localhost:8080/",
          "height": 304
        },
        "id": "k2HtLv-LHhUK",
        "outputId": "73738a49-6e2c-45a0-c625-c0ce4d4e7133"
      },
      "execution_count": 44,
      "outputs": [
        {
          "output_type": "display_data",
          "data": {
            "text/plain": [
              "<Figure size 576x288 with 1 Axes>"
            ],
            "image/png": "[encoded data removed]"
          },
          "metadata": {
            "needs_background": "light"
          }
        }
      ]
    },
    {
      "cell_type": "markdown",
      "source": [
        "###***Social status feature analysis***"
      ],
      "metadata": {
        "id": "AARHLdpsCKQK"
      }
    },
    {
      "cell_type": "code",
      "source": [
        "#visualising no. of passengers of different social status \n",
        "titanic_df['social status'].value_counts().plot.bar(color = 'y')\n",
        "plt.title('count of passengers of different social status')\n",
        "plt.xlabel('social status')\n",
        "plt.ylabel('no. of passengers')\n",
        "plt.show()"
      ],
      "metadata": {
        "colab": {
          "base_uri": "https://localhost:8080/",
          "height": 351
        },
        "id": "cwjDhP1hCOav",
        "outputId": "a45102b0-e718-42f8-cdc3-f295a0930271"
      },
      "execution_count": 45,
      "outputs": [
        {
          "output_type": "display_data",
          "data": {
            "text/plain": [
              "<Figure size 576x288 with 1 Axes>"
            ],
            "image/png": "[encoded data removed]"
          },
          "metadata": {
            "needs_background": "light"
          }
        }
      ]
    },
    {
      "cell_type": "markdown",
      "source": [
        "*Most of the passengers were from common social background*"
      ],
      "metadata": {
        "id": "CZYVGMVxCjdE"
      }
    },
    {
      "cell_type": "code",
      "source": [
        "#visualising affect of social status on survival\n",
        "titanic_df.groupby(['survived','social status']).agg({'survived':'count'}).unstack().plot.bar()   #bar plot\n",
        "plt.title('passenger survival for different social status')\n",
        "plt.xlabel('passenger survival & social status')\n",
        "plt.ylabel('no. of passengers')\n",
        "plt.show()"
      ],
      "metadata": {
        "colab": {
          "base_uri": "https://localhost:8080/",
          "height": 301
        },
        "id": "TmuzhnbvCp5W",
        "outputId": "025267d1-4f4f-4126-acf8-732b634fbd24"
      },
      "execution_count": 46,
      "outputs": [
        {
          "output_type": "display_data",
          "data": {
            "text/plain": [
              "<Figure size 576x288 with 1 Axes>"
            ],
            "image/png": "[encoded data removed]"
          },
          "metadata": {
            "needs_background": "light"
          }
        }
      ]
    },
    {
      "cell_type": "code",
      "source": [
        "#percentage of passenger survived from different social status\n",
        "titanic_df['survived'].groupby(titanic_df['social status']).mean().plot(kind='bar')\n",
        "plt.title('percentage of people survived from different social status')\n",
        "plt.show()"
      ],
      "metadata": {
        "colab": {
          "base_uri": "https://localhost:8080/",
          "height": 351
        },
        "id": "WOHrQY-ZGRWI",
        "outputId": "443d02d5-e8e9-4b21-c438-df28e650d3f4"
      },
      "execution_count": 47,
      "outputs": [
        {
          "output_type": "display_data",
          "data": {
            "text/plain": [
              "<Figure size 576x288 with 1 Axes>"
            ],
            "image/png": "[encoded data removed]"
          },
          "metadata": {
            "needs_background": "light"
          }
        }
      ]
    },
    {
      "cell_type": "markdown",
      "source": [
        "*If a passenger is noble, there were high chances to survive*"
      ],
      "metadata": {
        "id": "SR4ZTajhHVKp"
      }
    },
    {
      "cell_type": "markdown",
      "source": [
        "###***Deck feature analysis***"
      ],
      "metadata": {
        "id": "QkvJ8LafzwwQ"
      }
    },
    {
      "cell_type": "code",
      "source": [
        "#visualising no. of passengers in different decks\n",
        "titanic_df['deck'].value_counts().plot.bar(color = 'y')\n",
        "plt.title('count of passengers on different decks')\n",
        "plt.xlabel('decks')\n",
        "plt.ylabel('no. of passengers')\n",
        "plt.show()"
      ],
      "metadata": {
        "colab": {
          "base_uri": "https://localhost:8080/",
          "height": 351
        },
        "id": "G7c_pU7uzKVn",
        "outputId": "8ff0b9ab-fb21-434d-c148-25dff1b12806"
      },
      "execution_count": 48,
      "outputs": [
        {
          "output_type": "display_data",
          "data": {
            "text/plain": [
              "<Figure size 576x288 with 1 Axes>"
            ],
            "image/png": "[encoded data removed]"
          },
          "metadata": {
            "needs_background": "light"
          }
        }
      ]
    },
    {
      "cell_type": "code",
      "source": [
        "#visualising affect of deck on survival\n",
        "plt.rcParams['figure.figsize'] = (10,6)\n",
        "titanic_df.groupby(['survived','deck']).agg({'survived':'count'}).unstack().plot.bar()   #bar plot\n",
        "plt.title('passenger survival for different decks')\n",
        "plt.xlabel('passenger survival & decks')\n",
        "plt.ylabel('no. of passengers')\n",
        "plt.show()"
      ],
      "metadata": {
        "colab": {
          "base_uri": "https://localhost:8080/",
          "height": 410
        },
        "id": "toMIHUtl0WdX",
        "outputId": "c654b158-aced-4b3e-c61d-5c7de8d047e6"
      },
      "execution_count": 49,
      "outputs": [
        {
          "output_type": "display_data",
          "data": {
            "text/plain": [
              "<Figure size 720x432 with 1 Axes>"
            ],
            "image/png": "[encoded data removed]"
          },
          "metadata": {
            "needs_background": "light"
          }
        }
      ]
    },
    {
      "cell_type": "markdown",
      "source": [
        "*Does not seem to be any special affect of deck on survival status*"
      ],
      "metadata": {
        "id": "Iuh3SqWt1pRP"
      }
    },
    {
      "cell_type": "code",
      "source": [
        "\n",
        "titanic_df['survived'].groupby(titanic_df['deck']).mean().plot(kind='bar')"
      ],
      "metadata": {
        "colab": {
          "base_uri": "https://localhost:8080/",
          "height": 461
        },
        "id": "hIjQCJhUH8Nl",
        "outputId": "b2e161c5-0899-40da-bc05-6a0044c731a5"
      },
      "execution_count": 50,
      "outputs": [
        {
          "output_type": "execute_result",
          "data": {
            "text/plain": [
              "<matplotlib.axes._subplots.AxesSubplot at 0x7f141341f690>"
            ]
          },
          "metadata": {},
          "execution_count": 50
        },
        {
          "output_type": "display_data",
          "data": {
            "text/plain": [
              "<Figure size 720x432 with 1 Axes>"
            ],
            "image/png": "[encoded data removed]"
          },
          "metadata": {
            "needs_background": "light"
          }
        }
      ]
    },
    {
      "cell_type": "markdown",
      "source": [
        "###***Family members feature analysis***"
      ],
      "metadata": {
        "id": "5MLs63tF1-FD"
      }
    },
    {
      "cell_type": "code",
      "source": [
        "#visualising passengers family size\n",
        "plt.rcParams['figure.figsize'] = (8,4)\n",
        "titanic_df['family_members'].value_counts().plot.bar()\n",
        "plt.title('family size observations')\n",
        "plt.xlabel('family size')\n",
        "plt.ylabel('no. of passengers')\n",
        "plt.show()"
      ],
      "metadata": {
        "colab": {
          "base_uri": "https://localhost:8080/",
          "height": 307
        },
        "id": "4HefTln72G-a",
        "outputId": "6f087f7e-df15-42af-9a36-a0b3c2348429"
      },
      "execution_count": 51,
      "outputs": [
        {
          "output_type": "display_data",
          "data": {
            "text/plain": [
              "<Figure size 576x288 with 1 Axes>"
            ],
            "image/png": "[encoded data removed]"
          },
          "metadata": {
            "needs_background": "light"
          }
        }
      ]
    },
    {
      "cell_type": "markdown",
      "source": [
        "*Mostly passengers were alone, without family*"
      ],
      "metadata": {
        "id": "dPE1OG_Y41Up"
      }
    },
    {
      "cell_type": "code",
      "source": [
        "#visualising affect of family size on survival\n",
        "titanic_df.groupby(['survived','family_members']).agg({'survived':'count'}).unstack().plot.bar()   #bar plot\n",
        "plt.title('passenger survival for different family sizes')\n",
        "plt.xlabel('passenger survival & family size')\n",
        "plt.ylabel('no. of passengers')\n",
        "plt.show()"
      ],
      "metadata": {
        "colab": {
          "base_uri": "https://localhost:8080/",
          "height": 301
        },
        "id": "TsX037zD45y-",
        "outputId": "406edf8b-84a6-4f40-d19a-4f3025b5c4d7"
      },
      "execution_count": 52,
      "outputs": [
        {
          "output_type": "display_data",
          "data": {
            "text/plain": [
              "<Figure size 576x288 with 1 Axes>"
            ],
            "image/png": "[encoded data removed]"
          },
          "metadata": {
            "needs_background": "light"
          }
        }
      ]
    },
    {
      "cell_type": "code",
      "source": [
        "#percentage of passenger survived having different family members\n",
        "titanic_df['survived'].groupby(titanic_df['family_members']).mean().plot(kind='bar')\n",
        "plt.title('percentage of people survived having different family members')\n",
        "plt.show()"
      ],
      "metadata": {
        "colab": {
          "base_uri": "https://localhost:8080/",
          "height": 308
        },
        "id": "Qp4UdHifIEAA",
        "outputId": "f72f38e7-a38c-4135-a084-dae5e51f2328"
      },
      "execution_count": 53,
      "outputs": [
        {
          "output_type": "display_data",
          "data": {
            "text/plain": [
              "<Figure size 576x288 with 1 Axes>"
            ],
            "image/png": "[encoded data removed]"
          },
          "metadata": {
            "needs_background": "light"
          }
        }
      ]
    },
    {
      "cell_type": "markdown",
      "source": [
        "##***Predictive Modelling***"
      ],
      "metadata": {
        "id": "Ptaf1Fd5EIIG"
      }
    },
    {
      "cell_type": "code",
      "source": [
        "#creating a copy of the dataframe\n",
        "titanic = titanic_df.copy()"
      ],
      "metadata": {
        "id": "5wwu_gjOHxiT"
      },
      "execution_count": 54,
      "outputs": []
    },
    {
      "cell_type": "code",
      "source": [
        "#looking at first few observations\n",
        "titanic.head()"
      ],
      "metadata": {
        "colab": {
          "base_uri": "https://localhost:8080/",
          "height": 206
        },
        "id": "MwsCkKjqNSF0",
        "outputId": "a3abd419-21f6-4af1-acd1-d8067c2ef61b"
      },
      "execution_count": 55,
      "outputs": [
        {
          "output_type": "execute_result",
          "data": {
            "text/plain": [
              "   pclass     sex embarked  survived social status deck  family_members  \\\n",
              "0     1.0  female        S       1.0        Common    B             0.0   \n",
              "1     1.0    male        S       1.0        Common    C             3.0   \n",
              "2     1.0  female        S       0.0        Common    C             3.0   \n",
              "3     1.0    male        S       0.0        Common    C             3.0   \n",
              "4     1.0  female        S       0.0        Common    C             3.0   \n",
              "\n",
              "  age group   ticket fare group  \n",
              "0  21 to 30  between 150 to 250  \n",
              "1   0 to 10  between 150 to 250  \n",
              "2   0 to 10  between 150 to 250  \n",
              "3  21 to 30  between 150 to 250  \n",
              "4  21 to 30  between 150 to 250  "
            ],
            "text/html": [
              "\n",
              "  <div id=\"df-c6a95ffd-87c2-45fa-bca8-e9a3a5d3ed38\">\n",
              "    <div class=\"colab-df-container\">\n",
              "      <div>\n",
              "<style scoped>\n",
              "    .dataframe tbody tr th:only-of-type {\n",
              "        vertical-align: middle;\n",
              "    }\n",
              "\n",
              "    .dataframe tbody tr th {\n",
              "        vertical-align: top;\n",
              "    }\n",
              "\n",
              "    .dataframe thead th {\n",
              "        text-align: right;\n",
              "    }\n",
              "</style>\n",
              "<table border=\"1\" class=\"dataframe\">\n",
              "  <thead>\n",
              "    <tr style=\"text-align: right;\">\n",
              "      <th></th>\n",
              "      <th>pclass</th>\n",
              "      <th>sex</th>\n",
              "      <th>embarked</th>\n",
              "      <th>survived</th>\n",
              "      <th>social status</th>\n",
              "      <th>deck</th>\n",
              "      <th>family_members</th>\n",
              "      <th>age group</th>\n",
              "      <th>ticket fare group</th>\n",
              "    </tr>\n",
              "  </thead>\n",
              "  <tbody>\n",
              "    <tr>\n",
              "      <th>0</th>\n",
              "      <td>1.0</td>\n",
              "      <td>female</td>\n",
              "      <td>S</td>\n",
              "      <td>1.0</td>\n",
              "      <td>Common</td>\n",
              "      <td>B</td>\n",
              "      <td>0.0</td>\n",
              "      <td>21 to 30</td>\n",
              "      <td>between 150 to 250</td>\n",
              "    </tr>\n",
              "    <tr>\n",
              "      <th>1</th>\n",
              "      <td>1.0</td>\n",
              "      <td>male</td>\n",
              "      <td>S</td>\n",
              "      <td>1.0</td>\n",
              "      <td>Common</td>\n",
              "      <td>C</td>\n",
              "      <td>3.0</td>\n",
              "      <td>0 to 10</td>\n",
              "      <td>between 150 to 250</td>\n",
              "    </tr>\n",
              "    <tr>\n",
              "      <th>2</th>\n",
              "      <td>1.0</td>\n",
              "      <td>female</td>\n",
              "      <td>S</td>\n",
              "      <td>0.0</td>\n",
              "      <td>Common</td>\n",
              "      <td>C</td>\n",
              "      <td>3.0</td>\n",
              "      <td>0 to 10</td>\n",
              "      <td>between 150 to 250</td>\n",
              "    </tr>\n",
              "    <tr>\n",
              "      <th>3</th>\n",
              "      <td>1.0</td>\n",
              "      <td>male</td>\n",
              "      <td>S</td>\n",
              "      <td>0.0</td>\n",
              "      <td>Common</td>\n",
              "      <td>C</td>\n",
              "      <td>3.0</td>\n",
              "      <td>21 to 30</td>\n",
              "      <td>between 150 to 250</td>\n",
              "    </tr>\n",
              "    <tr>\n",
              "      <th>4</th>\n",
              "      <td>1.0</td>\n",
              "      <td>female</td>\n",
              "      <td>S</td>\n",
              "      <td>0.0</td>\n",
              "      <td>Common</td>\n",
              "      <td>C</td>\n",
              "      <td>3.0</td>\n",
              "      <td>21 to 30</td>\n",
              "      <td>between 150 to 250</td>\n",
              "    </tr>\n",
              "  </tbody>\n",
              "</table>\n",
              "</div>\n",
              "      <button class=\"colab-df-convert\" onclick=\"convertToInteractive('df-c6a95ffd-87c2-45fa-bca8-e9a3a5d3ed38')\"\n",
              "              title=\"Convert this dataframe to an interactive table.\"\n",
              "              style=\"display:none;\">\n",
              "        \n",
              "  <svg xmlns=\"http://www.w3.org/2000/svg\" height=\"24px\"viewBox=\"0 0 24 24\"\n",
              "       width=\"24px\">\n",
              "    <path d=\"M0 0h24v24H0V0z\" fill=\"none\"/>\n",
              "    <path d=\"M18.56 5.44l.94 2.06.94-2.06 2.06-.94-2.06-.94-.94-2.06-.94 2.06-2.06.94zm-11 1L8.5 8.5l.94-2.06 2.06-.94-2.06-.94L8.5 2.5l-.94 2.06-2.06.94zm10 10l.94 2.06.94-2.06 2.06-.94-2.06-.94-.94-2.06-.94 2.06-2.06.94z\"/><path d=\"M17.41 7.96l-1.37-1.37c-.4-.4-.92-.59-1.43-.59-.52 0-1.04.2-1.43.59L10.3 9.45l-7.72 7.72c-.78.78-.78 2.05 0 2.83L4 21.41c.39.39.9.59 1.41.59.51 0 1.02-.2 1.41-.59l7.78-7.78 2.81-2.81c.8-.78.8-2.07 0-2.86zM5.41 20L4 18.59l7.72-7.72 1.47 1.35L5.41 20z\"/>\n",
              "  </svg>\n",
              "      </button>\n",
              "      \n",
              "  <style>\n",
              "    .colab-df-container {\n",
              "      display:flex;\n",
              "      flex-wrap:wrap;\n",
              "      gap: 12px;\n",
              "    }\n",
              "\n",
              "    .colab-df-convert {\n",
              "      background-color: #E8F0FE;\n",
              "      border: none;\n",
              "      border-radius: 50%;\n",
              "      cursor: pointer;\n",
              "      display: none;\n",
              "      fill: #1967D2;\n",
              "      height: 32px;\n",
              "      padding: 0 0 0 0;\n",
              "      width: 32px;\n",
              "    }\n",
              "\n",
              "    .colab-df-convert:hover {\n",
              "      background-color: #E2EBFA;\n",
              "      box-shadow: 0px 1px 2px rgba(60, 64, 67, 0.3), 0px 1px 3px 1px rgba(60, 64, 67, 0.15);\n",
              "      fill: #174EA6;\n",
              "    }\n",
              "\n",
              "    [theme=dark] .colab-df-convert {\n",
              "      background-color: #3B4455;\n",
              "      fill: #D2E3FC;\n",
              "    }\n",
              "\n",
              "    [theme=dark] .colab-df-convert:hover {\n",
              "      background-color: #434B5C;\n",
              "      box-shadow: 0px 1px 3px 1px rgba(0, 0, 0, 0.15);\n",
              "      filter: drop-shadow(0px 1px 2px rgba(0, 0, 0, 0.3));\n",
              "      fill: #FFFFFF;\n",
              "    }\n",
              "  </style>\n",
              "\n",
              "      <script>\n",
              "        const buttonEl =\n",
              "          document.querySelector('#df-c6a95ffd-87c2-45fa-bca8-e9a3a5d3ed38 button.colab-df-convert');\n",
              "        buttonEl.style.display =\n",
              "          google.colab.kernel.accessAllowed ? 'block' : 'none';\n",
              "\n",
              "        async function convertToInteractive(key) {\n",
              "          const element = document.querySelector('#df-c6a95ffd-87c2-45fa-bca8-e9a3a5d3ed38');\n",
              "          const dataTable =\n",
              "            await google.colab.kernel.invokeFunction('convertToInteractive',\n",
              "                                                     [key], {});\n",
              "          if (!dataTable) return;\n",
              "\n",
              "          const docLinkHtml = 'Like what you see? Visit the ' +\n",
              "            '<a target=\"_blank\" href=https://colab.research.google.com/notebooks/data_table.ipynb>data table notebook</a>'\n",
              "            + ' to learn more about interactive tables.';\n",
              "          element.innerHTML = '';\n",
              "          dataTable['output_type'] = 'display_data';\n",
              "          await google.colab.output.renderOutput(dataTable, element);\n",
              "          const docLink = document.createElement('div');\n",
              "          docLink.innerHTML = docLinkHtml;\n",
              "          element.appendChild(docLink);\n",
              "        }\n",
              "      </script>\n",
              "    </div>\n",
              "  </div>\n",
              "  "
            ]
          },
          "metadata": {},
          "execution_count": 55
        }
      ]
    },
    {
      "cell_type": "markdown",
      "source": [
        "***Encoding***"
      ],
      "metadata": {
        "id": "FoZVnoe0aU5U"
      }
    },
    {
      "cell_type": "code",
      "source": [
        "#lloking for the basic information\n",
        "titanic.info()"
      ],
      "metadata": {
        "colab": {
          "base_uri": "https://localhost:8080/"
        },
        "id": "3cesyiUOcn5p",
        "outputId": "552b6dd9-c4df-430b-ee9c-ce0e222cd302"
      },
      "execution_count": 56,
      "outputs": [
        {
          "output_type": "stream",
          "name": "stdout",
          "text": [
            "<class 'pandas.core.frame.DataFrame'>\n",
            "RangeIndex: 1309 entries, 0 to 1308\n",
            "Data columns (total 9 columns):\n",
            " #   Column             Non-Null Count  Dtype  \n",
            "---  ------             --------------  -----  \n",
            " 0   pclass             1309 non-null   float64\n",
            " 1   sex                1309 non-null   object \n",
            " 2   embarked           1309 non-null   object \n",
            " 3   survived           1309 non-null   float64\n",
            " 4   social status      1309 non-null   object \n",
            " 5   deck               1309 non-null   object \n",
            " 6   family_members     1309 non-null   float64\n",
            " 7   age group          1309 non-null   object \n",
            " 8   ticket fare group  1309 non-null   object \n",
            "dtypes: float64(3), object(6)\n",
            "memory usage: 92.2+ KB\n"
          ]
        }
      ]
    },
    {
      "cell_type": "code",
      "source": [
        "#looking for different values of social status column\n",
        "titanic['social status'].unique()"
      ],
      "metadata": {
        "colab": {
          "base_uri": "https://localhost:8080/"
        },
        "id": "2FirsXnZnVfG",
        "outputId": "f92439f4-0889-4bcc-f4b5-916aae654a97"
      },
      "execution_count": 57,
      "outputs": [
        {
          "output_type": "execute_result",
          "data": {
            "text/plain": [
              "array(['Common', 'Military', 'Dr', 'Not Available', 'Noble', 'Clergy'],\n",
              "      dtype=object)"
            ]
          },
          "metadata": {},
          "execution_count": 57
        }
      ]
    },
    {
      "cell_type": "code",
      "source": [
        "#defing a function to do ordinal encoding of family members feature\n",
        "def family_size(x):\n",
        "  if x in [1.0, 2.0, 3.0]:\n",
        "    return 2\n",
        "  if x in [0.0, 4.0, 5.0, 6.0]:\n",
        "    return 1\n",
        "  if x in [7.0, 10.0]:\n",
        "    return 0   "
      ],
      "metadata": {
        "id": "SuKwXBOvKPnm"
      },
      "execution_count": 58,
      "outputs": []
    },
    {
      "cell_type": "code",
      "source": [
        "##ordinal encoding \n",
        "\n",
        "#pclass feature\n",
        "titanic['pclass'] = titanic['pclass'].map({1.0:3, 2.0:2, 3.0 :1})\n",
        "\n",
        "#sex feature\n",
        "titanic['sex'] = titanic['sex'].map({'female':1, 'male':0})\n",
        "\n",
        "#social status feature\n",
        "titanic['social status']=titanic['social status'].str.strip()\n",
        "titanic['social status'] = titanic['social status'].map({'Clergy':1, 'Common':2,'Dr':3, 'Military':4, 'Noble':5, 'Not Available': 0})\n",
        "\n",
        "#family members feature\n",
        "titanic['family_members'] =  titanic['family_members'].apply(family_size)   \n",
        "\n",
        "#age group feature\n",
        "titanic['age group'] = titanic['age group'].map({'0 to 10':7, '51 to 60':6, '31 to 40':5, '41 to 50':4, '11 to 20': 4,'21 to 30':3, '61 to 70':2, '70 above':1})\n",
        "\n",
        "#ticket fare group feature\n",
        "titanic['ticket fare group'] = titanic['ticket fare group'].map({'between 0 to 30':0, 'between 30 to 80':1, 'between 80 to 150':3, 'between 150 to 250':2, '250 above': 3})\n"
      ],
      "metadata": {
        "id": "TOA6iohEEGA3"
      },
      "execution_count": 59,
      "outputs": []
    },
    {
      "cell_type": "code",
      "source": [
        "#one hot coding for embarked and deck features\n",
        "dummies_train = pd.get_dummies(titanic[['deck','embarked']],drop_first = True)"
      ],
      "metadata": {
        "id": "MbFutTEmM_T-"
      },
      "execution_count": 60,
      "outputs": []
    },
    {
      "cell_type": "code",
      "source": [
        "#dropping columns\n",
        "titanic.drop(columns = ['deck','embarked'],inplace = True)"
      ],
      "metadata": {
        "id": "qYnyGmZ9bJFM"
      },
      "execution_count": 61,
      "outputs": []
    },
    {
      "cell_type": "code",
      "source": [
        "#concatenating dataframes\n",
        "titanic = pd.concat([titanic, dummies_train], axis =1) "
      ],
      "metadata": {
        "id": "wd0T4W_Xbb1l"
      },
      "execution_count": 62,
      "outputs": []
    },
    {
      "cell_type": "code",
      "source": [
        "#categorising dependent and independent variables\n",
        "dep_var = ['survived']\n",
        "ind_var = list(set(titanic.columns.tolist()) - set(dep_var))"
      ],
      "metadata": {
        "id": "baD3ZlX2E-dn"
      },
      "execution_count": 63,
      "outputs": []
    },
    {
      "cell_type": "code",
      "source": [
        "#distributing input and output variables\n",
        "x = titanic[ind_var]\n",
        "y = titanic['survived']"
      ],
      "metadata": {
        "id": "_UvWH0uGEkvO"
      },
      "execution_count": 64,
      "outputs": []
    },
    {
      "cell_type": "code",
      "source": [
        "#train test split\n",
        "x_train, x_test, y_train, y_test = train_test_split(x,y, test_size = 0.2, random_state = 0)"
      ],
      "metadata": {
        "id": "UqaPV7tAcWV9"
      },
      "execution_count": 65,
      "outputs": []
    }
  ]
}